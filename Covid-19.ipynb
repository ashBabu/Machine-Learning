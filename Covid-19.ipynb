{
 "cells": [
  {
   "cell_type": "code",
   "execution_count": 213,
   "metadata": {},
   "outputs": [],
   "source": [
    "import numpy as np\n",
    "import pandas as pd\n",
    "import matplotlib.pyplot as plt\n",
    "import matplotlib.dates as mdates\n",
    "from matplotlib.dates import DateFormatter, WeekdayLocator,\\\n",
    "    DayLocator, MONDAY, YearLocator, MonthLocator\n",
    "from datetime import datetime as dt\n",
    "\n",
    "from sklearn.model_selection import train_test_split\n",
    "from sklearn.linear_model import LinearRegression, LogisticRegression\n",
    "from sklearn.kernel_ridge import KernelRidge\n",
    "from sklearn.model_selection import GridSearchCV\n",
    "from sklearn.gaussian_process import GaussianProcessRegressor\n",
    "from sklearn.gaussian_process.kernels import WhiteKernel, ExpSineSquared\n",
    "# %matplotlib notebook\n",
    "%matplotlib inline"
   ]
  },
  {
   "cell_type": "code",
   "execution_count": 214,
   "metadata": {},
   "outputs": [],
   "source": [
    "# Functions for Bayesian Regression\n",
    "def getPolynomialDataMatrix(x, degree):\n",
    "    Xtilde = np.ones(x.shape)\n",
    "    for i in range(1,degree + 1):\n",
    "        Xtilde = np.column_stack((Xtilde, x ** i))\n",
    "    return Xtilde\n",
    "\n",
    "def getBetaForPolynomialFit(x, y, degree):\n",
    "    Xtilde = getPolynomialDataMatrix(x, degree)\n",
    "    XX = Xtilde.transpose().dot(Xtilde)\n",
    "    regularizer = np.eye(XX.shape[0]) * 10 **-6\n",
    "    betaTilde = np.linalg.solve(XX + regularizer, Xtilde.transpose().dot(y))\n",
    "    return betaTilde\n",
    "\n",
    "def getBayesianBetaForPolynomialFit(x, y, degree, sigma, regLambda):  # Gaussian Bayes rule 2\n",
    "    # get polynomi\n",
    "    Xtilde = getPolynomialDataMatrix(x, degree)\n",
    "    XX = Xtilde.transpose().dot(Xtilde)\n",
    "    regularizer = np.eye(XX.shape[0]) * regLambda * sigma\n",
    "    betaTilde = np.linalg.solve(XX + regularizer, Xtilde.transpose().dot(y))\n",
    "    sigmaBeta = sigma * np.linalg.inv(XX + regularizer)\n",
    "    return betaTilde, sigmaBeta"
   ]
  },
  {
   "cell_type": "code",
   "execution_count": 215,
   "metadata": {},
   "outputs": [
    {
     "data": {
      "text/html": [
       "<div>\n",
       "<style scoped>\n",
       "    .dataframe tbody tr th:only-of-type {\n",
       "        vertical-align: middle;\n",
       "    }\n",
       "\n",
       "    .dataframe tbody tr th {\n",
       "        vertical-align: top;\n",
       "    }\n",
       "\n",
       "    .dataframe thead th {\n",
       "        text-align: right;\n",
       "    }\n",
       "</style>\n",
       "<table border=\"1\" class=\"dataframe\">\n",
       "  <thead>\n",
       "    <tr style=\"text-align: right;\">\n",
       "      <th></th>\n",
       "      <th>Date</th>\n",
       "      <th>Cases</th>\n",
       "      <th>Cumulative Cases</th>\n",
       "    </tr>\n",
       "  </thead>\n",
       "  <tbody>\n",
       "    <tr>\n",
       "      <th>0</th>\n",
       "      <td>31/01/2020</td>\n",
       "      <td>2</td>\n",
       "      <td>2</td>\n",
       "    </tr>\n",
       "    <tr>\n",
       "      <th>1</th>\n",
       "      <td>01/02/2020</td>\n",
       "      <td>0</td>\n",
       "      <td>2</td>\n",
       "    </tr>\n",
       "    <tr>\n",
       "      <th>2</th>\n",
       "      <td>02/02/2020</td>\n",
       "      <td>0</td>\n",
       "      <td>2</td>\n",
       "    </tr>\n",
       "    <tr>\n",
       "      <th>3</th>\n",
       "      <td>03/02/2020</td>\n",
       "      <td>0</td>\n",
       "      <td>2</td>\n",
       "    </tr>\n",
       "    <tr>\n",
       "      <th>4</th>\n",
       "      <td>04/02/2020</td>\n",
       "      <td>0</td>\n",
       "      <td>2</td>\n",
       "    </tr>\n",
       "  </tbody>\n",
       "</table>\n",
       "</div>"
      ],
      "text/plain": [
       "         Date Cases  Cumulative Cases\n",
       "0  31/01/2020     2                 2\n",
       "1  01/02/2020     0                 2\n",
       "2  02/02/2020     0                 2\n",
       "3  03/02/2020     0                 2\n",
       "4  04/02/2020     0                 2"
      ]
     },
     "execution_count": 215,
     "metadata": {},
     "output_type": "execute_result"
    }
   ],
   "source": [
    "df = pd.read_csv('/home/ash/Downloads/Historic COVID-19 Dashboard Data.csv')\n",
    "# data = pd.read_csv('/home/ash/Downloads/Historic COVID-19 Dashboard Data.csv',\n",
    "#                     usecols=['Date', 'Cases', 'Cumulative Cases'], )\n",
    "\n",
    "df.head()\n",
    "# data.head()"
   ]
  },
  {
   "cell_type": "code",
   "execution_count": 216,
   "metadata": {},
   "outputs": [],
   "source": [
    "df['Date'] = pd.to_datetime(df['Date'], infer_datetime_format=True)\n",
    "df.set_index('Date', inplace=True)"
   ]
  },
  {
   "cell_type": "code",
   "execution_count": 233,
   "metadata": {},
   "outputs": [],
   "source": [
    "def plotData(df, symbol, axisLocator='Year'):\n",
    "    fig, ax = plt.subplots()\n",
    "    mondays = WeekdayLocator(MONDAY)        # major ticks on the mondays\n",
    "    alldays = DayLocator()              # minor ticks on the days\n",
    "    weekFormatter = DateFormatter('%b %d')  # e.g., Jan 12\n",
    "    dayFormatter = DateFormatter('%d')      # e.g., 12\n",
    "    \n",
    "    fig.subplots_adjust(bottom=0.2)\n",
    "    \n",
    "    if axisLocator == 'month':\n",
    "        ax.xaxis.set_major_locator(mondays)\n",
    "        ax.xaxis.set_major_formatter(weekFormatter)\n",
    "        \n",
    "    ax.plot(df[symbol])\n",
    "    ax.scatter(df.index, df[symbol])\n",
    "    ax.xaxis_date()\n",
    "    ax.autoscale_view()\n",
    "    plt.setp(plt.gca().get_xticklabels(), rotation=45, horizontalalignment='right')\n",
    "    return ax\n",
    "#     plt.show()\n",
    "    \n",
    "    # ax.xaxis.set_minor_formatter(dayFormatter)\n",
    "    # ax.xaxis.set_minor_locator(alldays)\n",
    "    # ax.xaxis.set_major_locator(YearLocator())\n",
    "    # ax.xaxis.set_major_locator(MonthLocator((1,2,3)))\n",
    "\n",
    "    # ax.xaxis.set_major_formatter(DateFormatter(\"\\n%m\"))\n",
    "    # ax.xaxis.set_minor_formatter(DateFormatter(\"%b\"))\n",
    "\n",
    "    # df[symbol].plot(ax=ax)\n",
    "    \n",
    "    # ax.plot(df['Cumulative Cases'])\n",
    "    # ax.set_xticks(df.index)\n",
    "    # ax.set_xticks(df['Date'])"
   ]
  },
  {
   "cell_type": "code",
   "execution_count": 234,
   "metadata": {},
   "outputs": [
    {
     "data": {
      "text/plain": [
       "<matplotlib.axes._subplots.AxesSubplot at 0x7f3e8f0389b0>"
      ]
     },
     "execution_count": 234,
     "metadata": {},
     "output_type": "execute_result"
    },
    {
     "data": {
      "image/png": "[encoded data removed]",
      "text/plain": [
       "<Figure size 432x288 with 1 Axes>"
      ]
     },
     "metadata": {
      "needs_background": "light"
     },
     "output_type": "display_data"
    }
   ],
   "source": [
    "plotData(df, 'Cumulative Cases', axisLocator='month')  # axisLocator is either Year or month which comes on X axis"
   ]
  },
  {
   "cell_type": "code",
   "execution_count": 232,
   "metadata": {},
   "outputs": [],
   "source": [
    "date_index = df.index.map(dt.toordinal)"
   ]
  },
  {
   "cell_type": "code",
   "execution_count": 283,
   "metadata": {},
   "outputs": [
    {
     "ename": "SyntaxError",
     "evalue": "invalid token (<ipython-input-283-c4ed8460a835>, line 2)",
     "output_type": "error",
     "traceback": [
      "\u001b[0;36m  File \u001b[0;32m\"<ipython-input-283-c4ed8460a835>\"\u001b[0;36m, line \u001b[0;32m2\u001b[0m\n\u001b[0;31m    [2020-01-31].map(dt.toordinal)\u001b[0m\n\u001b[0m           ^\u001b[0m\n\u001b[0;31mSyntaxError\u001b[0m\u001b[0;31m:\u001b[0m invalid token\n"
     ]
    }
   ],
   "source": [
    "# date_index.map(dt.fromordinal)\n",
    "[2020-01-31].map(dt.toordinal)"
   ]
  },
  {
   "cell_type": "code",
   "execution_count": 221,
   "metadata": {},
   "outputs": [],
   "source": [
    "# start_date, end_date = '2020-01-31', '2020-03-23'\n",
    "# x_train = df.loc[start_date:end_date, ['Cumulative Cases']]"
   ]
  },
  {
   "cell_type": "code",
   "execution_count": 276,
   "metadata": {},
   "outputs": [
    {
     "data": {
      "text/plain": [
       "DatetimeIndex(['2020-03-21', '2020-03-12', '2020-03-14', '2020-02-10',\n",
       "               '2020-02-19', '2020-02-21', '2020-01-31', '2020-02-08',\n",
       "               '2020-02-03', '2020-02-24', '2020-03-13'],\n",
       "              dtype='datetime64[ns]', name='Date', freq=None)"
      ]
     },
     "execution_count": 276,
     "metadata": {},
     "output_type": "execute_result"
    }
   ],
   "source": [
    "X_train, X_test, y_train, y_test = train_test_split(date_index, df['Cumulative Cases'],\n",
    "                                                    test_size=0.8, random_state=3)\n",
    "X_tran = X_train.to_numpy().reshape(-1, 1)\n",
    "X_tet = X_test.to_numpy().reshape(-1, 1)\n",
    "X_train.map(dt.fromordinal)"
   ]
  },
  {
   "cell_type": "markdown",
   "metadata": {},
   "source": [
    "## Linear Regression"
   ]
  },
  {
   "cell_type": "code",
   "execution_count": 277,
   "metadata": {},
   "outputs": [
    {
     "data": {
      "text/plain": [
       "(array([56.06584184]), -41346682.77539367)"
      ]
     },
     "execution_count": 277,
     "metadata": {},
     "output_type": "execute_result"
    }
   ],
   "source": [
    "model_LR = LinearRegression() #create linear regression object\n",
    "model_LR.fit(X_tran, y_train) #train model on train data\n",
    "model_LR.score(X_tran, y_train) #check score\n",
    "y_pred = model_LR.predict(date_index.to_numpy().reshape(-1, 1))\n",
    "model_LR.coef_, model_LR.intercept_"
   ]
  },
  {
   "cell_type": "code",
   "execution_count": 278,
   "metadata": {},
   "outputs": [
    {
     "data": {
      "text/plain": [
       "[<matplotlib.lines.Line2D at 0x7f3e8ed8ec88>]"
      ]
     },
     "execution_count": 278,
     "metadata": {},
     "output_type": "execute_result"
    },
    {
     "data": {
      "image/png": "[encoded data removed]",
      "text/plain": [
       "<Figure size 432x288 with 1 Axes>"
      ]
     },
     "metadata": {
      "needs_background": "light"
     },
     "output_type": "display_data"
    }
   ],
   "source": [
    "ax = plotData(df, 'Cumulative Cases', axisLocator='month') \n",
    "ax.plot(df.index, y_pred)"
   ]
  },
  {
   "cell_type": "markdown",
   "metadata": {},
   "source": [
    "## Logistic Regression"
   ]
  },
  {
   "cell_type": "code",
   "execution_count": 279,
   "metadata": {},
   "outputs": [
    {
     "name": "stderr",
     "output_type": "stream",
     "text": [
      "/home/ash/Ash/venv3.6/lib/python3.6/site-packages/sklearn/linear_model/logistic.py:469: FutureWarning: Default multi_class will be changed to 'auto' in 0.22. Specify the multi_class option to silence this warning.\n",
      "  \"this warning.\", FutureWarning)\n"
     ]
    },
    {
     "data": {
      "text/plain": [
       "[<matplotlib.lines.Line2D at 0x7f3e8edbac18>]"
      ]
     },
     "execution_count": 279,
     "metadata": {},
     "output_type": "execute_result"
    },
    {
     "data": {
      "image/png": "[encoded data removed]",
      "text/plain": [
       "<Figure size 432x288 with 1 Axes>"
      ]
     },
     "metadata": {
      "needs_background": "light"
     },
     "output_type": "display_data"
    }
   ],
   "source": [
    "LR = LogisticRegression(C=0.1, solver='lbfgs').fit(X_tran, y_train)\n",
    "y_pred = LR.predict(date_index.to_numpy().reshape(-1, 1))\n",
    "ax = plotData(df, 'Cumulative Cases', axisLocator='month') \n",
    "ax.plot(df.index, y_pred)"
   ]
  },
  {
   "cell_type": "code",
   "execution_count": null,
   "metadata": {},
   "outputs": [],
   "source": []
  }
 ],
 "metadata": {
  "kernelspec": {
   "display_name": "venv3.6",
   "language": "python",
   "name": "venv3.6"
  },
  "language_info": {
   "codemirror_mode": {
    "name": "ipython",
    "version": 3
   },
   "file_extension": ".py",
   "mimetype": "text/x-python",
   "name": "python",
   "nbconvert_exporter": "python",
   "pygments_lexer": "ipython3",
   "version": "3.6.8"
  }
 },
 "nbformat": 4,
 "nbformat_minor": 2
}
