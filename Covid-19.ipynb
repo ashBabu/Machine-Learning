{
 "cells": [
  {
   "cell_type": "code",
   "execution_count": 7,
   "metadata": {},
   "outputs": [],
   "source": [
    "import numpy as np\n",
    "import pandas as pd\n",
    "import matplotlib.pyplot as plt\n",
    "import matplotlib.dates as mdates\n",
    "from matplotlib.dates import DateFormatter, WeekdayLocator,\\\n",
    "    DayLocator, MONDAY, YearLocator, MonthLocator\n",
    "from datetime import datetime as dt\n",
    "\n",
    "from sklearn.model_selection import train_test_split\n",
    "from sklearn.linear_model import LinearRegression, LogisticRegression\n",
    "from sklearn.kernel_ridge import KernelRidge\n",
    "from sklearn.model_selection import GridSearchCV\n",
    "from sklearn.gaussian_process import GaussianProcessRegressor\n",
    "from sklearn.gaussian_process.kernels import WhiteKernel, ExpSineSquared\n",
    "\n",
    "from pandas.plotting import register_matplotlib_converters\n",
    "register_matplotlib_converters()\n",
    "# %matplotlib notebook\n",
    "%matplotlib inline"
   ]
  },
  {
   "cell_type": "code",
   "execution_count": 2,
   "metadata": {},
   "outputs": [],
   "source": [
    "# Functions for Bayesian Regression\n",
    "def getPolynomialDataMatrix(x, degree):\n",
    "    Xtilde = np.ones(x.shape)\n",
    "    for i in range(1,degree + 1):\n",
    "        Xtilde = np.column_stack((Xtilde, x ** i))\n",
    "    return Xtilde\n",
    "\n",
    "def getBetaForPolynomialFit(x, y, degree):\n",
    "    Xtilde = getPolynomialDataMatrix(x, degree)\n",
    "    XX = Xtilde.transpose().dot(Xtilde)\n",
    "    regularizer = np.eye(XX.shape[0]) * 10 **-6\n",
    "    betaTilde = np.linalg.solve(XX + regularizer, Xtilde.transpose().dot(y))\n",
    "    return betaTilde\n",
    "\n",
    "def getBayesianBetaForPolynomialFit(x, y, degree, sigma, regLambda):  # Gaussian Bayes rule 2\n",
    "    # get polynomi\n",
    "    Xtilde = getPolynomialDataMatrix(x, degree)\n",
    "    XX = Xtilde.transpose().dot(Xtilde)\n",
    "    regularizer = np.eye(XX.shape[0]) * regLambda * sigma\n",
    "    betaTilde = np.linalg.solve(XX + regularizer, Xtilde.transpose().dot(y))\n",
    "    sigmaBeta = sigma * np.linalg.inv(XX + regularizer)\n",
    "    return betaTilde, sigmaBeta"
   ]
  },
  {
   "cell_type": "code",
   "execution_count": 55,
   "metadata": {},
   "outputs": [
    {
     "data": {
      "text/html": [
       "<div>\n",
       "<style scoped>\n",
       "    .dataframe tbody tr th:only-of-type {\n",
       "        vertical-align: middle;\n",
       "    }\n",
       "\n",
       "    .dataframe tbody tr th {\n",
       "        vertical-align: top;\n",
       "    }\n",
       "\n",
       "    .dataframe thead th {\n",
       "        text-align: right;\n",
       "    }\n",
       "</style>\n",
       "<table border=\"1\" class=\"dataframe\">\n",
       "  <thead>\n",
       "    <tr style=\"text-align: right;\">\n",
       "      <th></th>\n",
       "      <th>Date</th>\n",
       "      <th>Cases</th>\n",
       "      <th>Cumulative Cases</th>\n",
       "    </tr>\n",
       "  </thead>\n",
       "  <tbody>\n",
       "    <tr>\n",
       "      <th>0</th>\n",
       "      <td>31/01/2020</td>\n",
       "      <td>2</td>\n",
       "      <td>2</td>\n",
       "    </tr>\n",
       "    <tr>\n",
       "      <th>1</th>\n",
       "      <td>01/02/2020</td>\n",
       "      <td>0</td>\n",
       "      <td>2</td>\n",
       "    </tr>\n",
       "    <tr>\n",
       "      <th>2</th>\n",
       "      <td>02/02/2020</td>\n",
       "      <td>0</td>\n",
       "      <td>2</td>\n",
       "    </tr>\n",
       "    <tr>\n",
       "      <th>3</th>\n",
       "      <td>03/02/2020</td>\n",
       "      <td>0</td>\n",
       "      <td>2</td>\n",
       "    </tr>\n",
       "    <tr>\n",
       "      <th>4</th>\n",
       "      <td>04/02/2020</td>\n",
       "      <td>0</td>\n",
       "      <td>2</td>\n",
       "    </tr>\n",
       "  </tbody>\n",
       "</table>\n",
       "</div>"
      ],
      "text/plain": [
       "         Date Cases  Cumulative Cases\n",
       "0  31/01/2020     2                 2\n",
       "1  01/02/2020     0                 2\n",
       "2  02/02/2020     0                 2\n",
       "3  03/02/2020     0                 2\n",
       "4  04/02/2020     0                 2"
      ]
     },
     "execution_count": 55,
     "metadata": {},
     "output_type": "execute_result"
    }
   ],
   "source": [
    "df = pd.read_csv('./Historic COVID-19 Dashboard Data.csv')\n",
    "# data = pd.read_csv('/home/ash/Downloads/Historic COVID-19 Dashboard Data.csv',\n",
    "#                     usecols=['Date', 'Cases', 'Cumulative Cases'], )\n",
    "\n",
    "df.head()\n",
    "# data.head()"
   ]
  },
  {
   "cell_type": "code",
   "execution_count": 4,
   "metadata": {},
   "outputs": [],
   "source": [
    "df['Date'] = pd.to_datetime(df['Date'], infer_datetime_format=True)\n",
    "df.set_index('Date', inplace=True)"
   ]
  },
  {
   "cell_type": "code",
   "execution_count": 5,
   "metadata": {},
   "outputs": [],
   "source": [
    "def plotData(df, symbol, axisLocator='Year'):\n",
    "    fig, ax = plt.subplots()\n",
    "    mondays = WeekdayLocator(MONDAY)        # major ticks on the mondays\n",
    "    alldays = DayLocator()              # minor ticks on the days\n",
    "    weekFormatter = DateFormatter('%b %d')  # e.g., Jan 12\n",
    "    dayFormatter = DateFormatter('%d')      # e.g., 12\n",
    "    \n",
    "    fig.subplots_adjust(bottom=0.2)\n",
    "    \n",
    "    if axisLocator == 'month':\n",
    "        ax.xaxis.set_major_locator(mondays)\n",
    "        ax.xaxis.set_major_formatter(weekFormatter)\n",
    "        \n",
    "    ax.plot(df[symbol])\n",
    "    ax.scatter(df.index, df[symbol])\n",
    "    ax.xaxis_date()\n",
    "    ax.autoscale_view()\n",
    "    plt.setp(plt.gca().get_xticklabels(), rotation=45, horizontalalignment='right')\n",
    "    return ax\n",
    "#     plt.show()\n",
    "    \n",
    "    # ax.xaxis.set_minor_formatter(dayFormatter)\n",
    "    # ax.xaxis.set_minor_locator(alldays)\n",
    "    # ax.xaxis.set_major_locator(YearLocator())\n",
    "    # ax.xaxis.set_major_locator(MonthLocator((1,2,3)))\n",
    "\n",
    "    # ax.xaxis.set_major_formatter(DateFormatter(\"\\n%m\"))\n",
    "    # ax.xaxis.set_minor_formatter(DateFormatter(\"%b\"))\n",
    "\n",
    "    # df[symbol].plot(ax=ax)\n",
    "    \n",
    "    # ax.plot(df['Cumulative Cases'])\n",
    "    # ax.set_xticks(df.index)\n",
    "    # ax.set_xticks(df['Date'])"
   ]
  },
  {
   "cell_type": "code",
   "execution_count": 8,
   "metadata": {},
   "outputs": [
    {
     "data": {
      "text/plain": [
       "<matplotlib.axes._subplots.AxesSubplot at 0x7fa6d8613278>"
      ]
     },
     "execution_count": 8,
     "metadata": {},
     "output_type": "execute_result"
    },
    {
     "data": {
      "image/png": "[encoded data removed]",
      "text/plain": [
       "<Figure size 432x288 with 1 Axes>"
      ]
     },
     "metadata": {
      "needs_background": "light"
     },
     "output_type": "display_data"
    }
   ],
   "source": [
    "plotData(df, 'Cumulative Cases', axisLocator='month')  # axisLocator is either Year or month which comes on X axis"
   ]
  },
  {
   "cell_type": "code",
   "execution_count": 232,
   "metadata": {},
   "outputs": [],
   "source": [
    "date_index = df.index.map(dt.toordinal)"
   ]
  },
  {
   "cell_type": "code",
   "execution_count": 38,
   "metadata": {},
   "outputs": [],
   "source": [
    "# date_index.map(dt.fromordinal)\n",
    "# [2020-01-31].map(dt.toordinal)\n",
    "# df['Cumulative Cases']"
   ]
  },
  {
   "cell_type": "code",
   "execution_count": 47,
   "metadata": {},
   "outputs": [],
   "source": [
    "start_date, end_date = '2020-02-25', '2020-03-28'\n",
    "dates = pd.date_range(start_date, end_date)  # date range as index\n",
    "date_index = dates.map(dt.toordinal)\n",
    "\n",
    "full_dates = df.index.map(dt.toordinal)\n",
    "\n",
    "X_tran = date_index.to_numpy().reshape(-1, 1)\n",
    "y_train = df.loc[start_date:end_date, ['Cumulative Cases']]\n",
    "# X_tet = X_test.to_numpy().reshape(-1, 1)\n",
    "# x_train = df.loc[start_date:end_date, ['Cumulative Cases']]"
   ]
  },
  {
   "cell_type": "code",
   "execution_count": 48,
   "metadata": {},
   "outputs": [
    {
     "data": {
      "text/plain": [
       "array([[737480],\n",
       "       [737481],\n",
       "       [737482],\n",
       "       [737483],\n",
       "       [737484],\n",
       "       [737485],\n",
       "       [737486],\n",
       "       [737487],\n",
       "       [737488],\n",
       "       [737489],\n",
       "       [737490],\n",
       "       [737491],\n",
       "       [737492],\n",
       "       [737493],\n",
       "       [737494],\n",
       "       [737495],\n",
       "       [737496],\n",
       "       [737497],\n",
       "       [737498],\n",
       "       [737499],\n",
       "       [737500],\n",
       "       [737501],\n",
       "       [737502],\n",
       "       [737503],\n",
       "       [737504],\n",
       "       [737505],\n",
       "       [737506],\n",
       "       [737507],\n",
       "       [737508],\n",
       "       [737509],\n",
       "       [737510],\n",
       "       [737511],\n",
       "       [737512]])"
      ]
     },
     "execution_count": 48,
     "metadata": {},
     "output_type": "execute_result"
    }
   ],
   "source": [
    "# X_train, X_test, y_train, y_test = train_test_split(date_index, df['Cumulative Cases'],\n",
    "#                                                     test_size=0.8, random_state=3)\n",
    "# X_tran = X_train.to_numpy().reshape(-1, 1)\n",
    "# X_tet = X_test.to_numpy().reshape(-1, 1)\n",
    "# X_train.map(dt.fromordinal)\n",
    "X_tran"
   ]
  },
  {
   "cell_type": "markdown",
   "metadata": {},
   "source": [
    "## Linear Regression"
   ]
  },
  {
   "cell_type": "code",
   "execution_count": 49,
   "metadata": {},
   "outputs": [
    {
     "data": {
      "text/plain": [
       "(array([[379.40240642]]), array([-2.79804798e+08]))"
      ]
     },
     "execution_count": 49,
     "metadata": {},
     "output_type": "execute_result"
    }
   ],
   "source": [
    "model_LR = LinearRegression() #create linear regression object\n",
    "model_LR.fit(X_tran, y_train) #train model on train data\n",
    "model_LR.score(X_tran, y_train) #check score\n",
    "y_pred = model_LR.predict(full_dates.to_numpy().reshape(-1, 1))\n",
    "model_LR.coef_, model_LR.intercept_"
   ]
  },
  {
   "cell_type": "code",
   "execution_count": 50,
   "metadata": {},
   "outputs": [
    {
     "data": {
      "text/plain": [
       "[<matplotlib.lines.Line2D at 0x7fa6d74954e0>]"
      ]
     },
     "execution_count": 50,
     "metadata": {},
     "output_type": "execute_result"
    },
    {
     "data": {
      "image/png": "[encoded data removed]",
      "text/plain": [
       "<Figure size 432x288 with 1 Axes>"
      ]
     },
     "metadata": {
      "needs_background": "light"
     },
     "output_type": "display_data"
    }
   ],
   "source": [
    "ax = plotData(df, 'Cumulative Cases', axisLocator='month') \n",
    "ax.plot(df.index, y_pred)"
   ]
  },
  {
   "cell_type": "markdown",
   "metadata": {},
   "source": [
    "## Logistic Regression"
   ]
  },
  {
   "cell_type": "code",
   "execution_count": 51,
   "metadata": {},
   "outputs": [
    {
     "name": "stderr",
     "output_type": "stream",
     "text": [
      "/home/ash/Ash/venv3.6/lib/python3.6/site-packages/sklearn/linear_model/logistic.py:469: FutureWarning: Default multi_class will be changed to 'auto' in 0.22. Specify the multi_class option to silence this warning.\n",
      "  \"this warning.\", FutureWarning)\n"
     ]
    },
    {
     "data": {
      "text/plain": [
       "[<matplotlib.lines.Line2D at 0x7fa686114278>]"
      ]
     },
     "execution_count": 51,
     "metadata": {},
     "output_type": "execute_result"
    },
    {
     "data": {
      "image/png": "[encoded data removed]",
      "text/plain": [
       "<Figure size 432x288 with 1 Axes>"
      ]
     },
     "metadata": {
      "needs_background": "light"
     },
     "output_type": "display_data"
    }
   ],
   "source": [
    "LR = LogisticRegression(C=0.1, solver='lbfgs').fit(X_tran, np.ravel(y_train))\n",
    "y_pred = LR.predict(full_dates.to_numpy().reshape(-1, 1))\n",
    "ax = plotData(df, 'Cumulative Cases', axisLocator='month') \n",
    "ax.plot(df.index, y_pred)"
   ]
  },
  {
   "cell_type": "markdown",
   "metadata": {},
   "source": [
    "## Bayesian Regression"
   ]
  },
  {
   "cell_type": "code",
   "execution_count": 52,
   "metadata": {},
   "outputs": [],
   "source": [
    "degree, sigma, regLambda = 4, 25, 10**-8\n",
    "\n",
    "beta, sigmaBeta = getBayesianBetaForPolynomialFit(X_tran,y_train, degree, sigma, regLambda)\n",
    "\n",
    "# compute predictive mean\n",
    "x_test = full_dates.to_numpy()\n",
    "X_test = getPolynomialDataMatrix(x_test, degree)\n",
    "y_pred = X_test.dot(beta)\n",
    "\n",
    "# Compute predictive variance for each data point\n",
    "y_sigma = np.zeros((X_test.shape[0]))\n",
    "for i in range(X_test.shape[0]):\n",
    "    y_sigma[i] = sigma + X_test[i,:].dot(sigmaBeta.dot(X_test[i,:].T))\n"
   ]
  },
  {
   "cell_type": "code",
   "execution_count": 53,
   "metadata": {},
   "outputs": [
    {
     "data": {
      "text/plain": [
       "[<matplotlib.lines.Line2D at 0x7fa6856d4588>,\n",
       " <matplotlib.lines.Line2D at 0x7fa6856d46d8>,\n",
       " <matplotlib.lines.Line2D at 0x7fa6856d4828>,\n",
       " <matplotlib.lines.Line2D at 0x7fa6856d4978>,\n",
       " <matplotlib.lines.Line2D at 0x7fa6856d4ac8>,\n",
       " <matplotlib.lines.Line2D at 0x7fa6856d4c18>,\n",
       " <matplotlib.lines.Line2D at 0x7fa6856d4d68>,\n",
       " <matplotlib.lines.Line2D at 0x7fa6856d4eb8>,\n",
       " <matplotlib.lines.Line2D at 0x7fa6856de048>,\n",
       " <matplotlib.lines.Line2D at 0x7fa6856de198>,\n",
       " <matplotlib.lines.Line2D at 0x7fa6856de2e8>,\n",
       " <matplotlib.lines.Line2D at 0x7fa6856de438>,\n",
       " <matplotlib.lines.Line2D at 0x7fa6856de588>,\n",
       " <matplotlib.lines.Line2D at 0x7fa6856de6d8>,\n",
       " <matplotlib.lines.Line2D at 0x7fa6856de828>,\n",
       " <matplotlib.lines.Line2D at 0x7fa6856de978>,\n",
       " <matplotlib.lines.Line2D at 0x7fa6856deac8>,\n",
       " <matplotlib.lines.Line2D at 0x7fa6856dec18>,\n",
       " <matplotlib.lines.Line2D at 0x7fa6856ded68>,\n",
       " <matplotlib.lines.Line2D at 0x7fa6856deeb8>,\n",
       " <matplotlib.lines.Line2D at 0x7fa6856e3048>,\n",
       " <matplotlib.lines.Line2D at 0x7fa6856e3198>,\n",
       " <matplotlib.lines.Line2D at 0x7fa6856e32e8>,\n",
       " <matplotlib.lines.Line2D at 0x7fa6856e3438>,\n",
       " <matplotlib.lines.Line2D at 0x7fa6856e3588>,\n",
       " <matplotlib.lines.Line2D at 0x7fa6856e36d8>,\n",
       " <matplotlib.lines.Line2D at 0x7fa6856e3828>,\n",
       " <matplotlib.lines.Line2D at 0x7fa6856e3978>,\n",
       " <matplotlib.lines.Line2D at 0x7fa6856e3ac8>,\n",
       " <matplotlib.lines.Line2D at 0x7fa6856e3c18>,\n",
       " <matplotlib.lines.Line2D at 0x7fa6856e3d68>,\n",
       " <matplotlib.lines.Line2D at 0x7fa6856e3eb8>,\n",
       " <matplotlib.lines.Line2D at 0x7fa6856e8048>,\n",
       " <matplotlib.lines.Line2D at 0x7fa6856e8198>,\n",
       " <matplotlib.lines.Line2D at 0x7fa6856e82e8>,\n",
       " <matplotlib.lines.Line2D at 0x7fa6856e8438>,\n",
       " <matplotlib.lines.Line2D at 0x7fa6856e8588>,\n",
       " <matplotlib.lines.Line2D at 0x7fa6856e86d8>,\n",
       " <matplotlib.lines.Line2D at 0x7fa6856e8828>,\n",
       " <matplotlib.lines.Line2D at 0x7fa6856e8978>,\n",
       " <matplotlib.lines.Line2D at 0x7fa6856e8ac8>,\n",
       " <matplotlib.lines.Line2D at 0x7fa6856e8c18>,\n",
       " <matplotlib.lines.Line2D at 0x7fa6856e8d68>,\n",
       " <matplotlib.lines.Line2D at 0x7fa6856e8eb8>,\n",
       " <matplotlib.lines.Line2D at 0x7fa6856ee048>,\n",
       " <matplotlib.lines.Line2D at 0x7fa6856ee198>,\n",
       " <matplotlib.lines.Line2D at 0x7fa6856ee2e8>,\n",
       " <matplotlib.lines.Line2D at 0x7fa6856ee438>,\n",
       " <matplotlib.lines.Line2D at 0x7fa6856ee588>,\n",
       " <matplotlib.lines.Line2D at 0x7fa6856ee6d8>,\n",
       " <matplotlib.lines.Line2D at 0x7fa6856ee828>,\n",
       " <matplotlib.lines.Line2D at 0x7fa6856ee978>,\n",
       " <matplotlib.lines.Line2D at 0x7fa6856eeac8>,\n",
       " <matplotlib.lines.Line2D at 0x7fa6856eec18>,\n",
       " <matplotlib.lines.Line2D at 0x7fa6856eed68>,\n",
       " <matplotlib.lines.Line2D at 0x7fa6856eeeb8>,\n",
       " <matplotlib.lines.Line2D at 0x7fa6856f5048>,\n",
       " <matplotlib.lines.Line2D at 0x7fa6856f5198>]"
      ]
     },
     "execution_count": 53,
     "metadata": {},
     "output_type": "execute_result"
    },
    {
     "data": {
      "image/png": "[encoded data removed]",
      "text/plain": [
       "<Figure size 432x288 with 1 Axes>"
      ]
     },
     "metadata": {
      "needs_background": "light"
     },
     "output_type": "display_data"
    }
   ],
   "source": [
    "ax = plotData(df, 'Cumulative Cases', axisLocator='month') \n",
    "ax.plot(df.index, y_pred)\n",
    "# ax.plot(x_test,y_pred, 'r')\n",
    "ax.plot(df.index, y_pred + 2 * np.sqrt(y_sigma), 'r--')\n",
    "ax.plot(df.index, y_pred - 2 * np.sqrt(y_sigma), 'r--')"
   ]
  },
  {
   "cell_type": "markdown",
   "metadata": {},
   "source": [
    "## Neural Networks"
   ]
  },
  {
   "cell_type": "code",
   "execution_count": 54,
   "metadata": {},
   "outputs": [
    {
     "data": {
      "text/plain": [
       "[<matplotlib.lines.Line2D at 0x7fa685114240>]"
      ]
     },
     "execution_count": 54,
     "metadata": {},
     "output_type": "execute_result"
    },
    {
     "data": {
      "image/png": "[encoded data removed]",
      "text/plain": [
       "<Figure size 432x288 with 1 Axes>"
      ]
     },
     "metadata": {
      "needs_background": "light"
     },
     "output_type": "display_data"
    }
   ],
   "source": [
    "import tensorflow as tf  # library for machine learning\n",
    "model = tf.keras.Sequential([\n",
    "                            tf.keras.layers.Dense(input_shape=[1], units=40),\n",
    "                            tf.keras.layers.Dense(units=60),\n",
    "                            tf.keras.layers.Dense(units=60), tf.keras.layers.Dense(units=60),\n",
    "                            tf.keras.layers.Dense(units=60),\n",
    "                            tf.keras.layers.Dense(units=1)\n",
    "                            ])\n",
    "# model.compile(optimizer='sgd', loss='mean_squared_error')\n",
    "model.compile(optimizer='Adam', loss='mean_squared_error')\n",
    "# model.compile(optimizer = 'adam', loss = 'sparse_categorical_crossentropy')\n",
    "model.fit(X_tran/X_tran[0], np.ravel(y_train), epochs=100, verbose=0)  # Find out the parameters\n",
    "prediction = model.predict([full_dates.to_numpy()])  # Predict the value of a 7 bedroom house\n",
    "# print(prediction)\n",
    "ax = plotData(df, 'Cumulative Cases', axisLocator='month') \n",
    "ax.plot(df.index, prediction)"
   ]
  },
  {
   "cell_type": "code",
   "execution_count": null,
   "metadata": {},
   "outputs": [],
   "source": [
    " "
   ]
  }
 ],
 "metadata": {
  "kernelspec": {
   "display_name": "venv3.6",
   "language": "python",
   "name": "venv3.6"
  },
  "language_info": {
   "codemirror_mode": {
    "name": "ipython",
    "version": 3
   },
   "file_extension": ".py",
   "mimetype": "text/x-python",
   "name": "python",
   "nbconvert_exporter": "python",
   "pygments_lexer": "ipython3",
   "version": "3.6.8"
  }
 },
 "nbformat": 4,
 "nbformat_minor": 2
}
