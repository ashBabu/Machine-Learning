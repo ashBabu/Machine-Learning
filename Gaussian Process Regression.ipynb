{
 "cells": [
  {
   "cell_type": "markdown",
   "metadata": {},
   "source": [
    "<h1><center>Gaussian Process Regression</center></h1>"
   ]
  },
  {
   "cell_type": "markdown",
   "metadata": {},
   "source": [
    "<a href='https://juanitorduz.github.io/gaussian_process_reg/' style=\"color:blue;font-size:18px;\"><strong>Tutorial Blog </strong></a>"
   ]
  },
  {
   "cell_type": "code",
   "execution_count": 1,
   "metadata": {},
   "outputs": [],
   "source": [
    "import numpy as np\n",
    "import matplotlib.pyplot as plt\n",
    "import seaborn as sns\n",
    "sns.set_style(\n",
    "    style='darkgrid', \n",
    "    rc={'axes.facecolor': '.9', 'grid.color': '.8'}\n",
    ")\n",
    "sns.set_palette(palette='deep')\n",
    "%matplotlib inline\n",
    "plt.rcParams['figure.figsize'] = [12, 6]\n",
    "plt.rcParams['figure.dpi'] = 100"
   ]
  },
  {
   "cell_type": "markdown",
   "metadata": {},
   "source": [
    "### Generate Data Samples\n",
    "\n",
    "We consider the model y = f(x) + ε, where ε∼N(0,σn). Here f does not need to be a linear function of x. As a concrete example, let us consider (1-dim problem)\n",
    "f(x)= sin(4πx)+sin(7πx)"
   ]
  },
  {
   "cell_type": "code",
   "execution_count": null,
   "metadata": {},
   "outputs": [],
   "source": [
    "# Define dimension.\n",
    "d = 1\n",
    "# Number of samples (training set). \n",
    "n = 500\n",
    "\n",
    "x = np.linspace(start=0, stop=1, num=n)\n",
    "\n",
    "def f(x):\n",
    "    f = np.sin((4*np.pi)*x) + np.sin((7*np.pi)*x)\n",
    "    return(f)\n",
    "\n",
    "f_x = f(x)\n",
    "\n",
    "fig, ax = plt.subplots()\n",
    "# Plot function f. \n",
    "sns.lineplot(x=x, y=f_x, color='red', label = 'f(x)', ax=ax)\n",
    "# Plot function components.\n",
    "sns.lineplot(x=x, y=np.sin((4*np.pi)*x), color='orange', label='$\\sin(4 \\pi x)$', alpha=0.3, ax=ax)\n",
    "sns.lineplot(x=x, y=np.sin((7*np.pi)*x), color='purple', label='$\\sin(7 \\pi x)$', alpha=0.3, ax=ax)\n",
    "ax.legend(loc='upper right')\n",
    "ax.set_title(r'Graph of $f(x) = \\sin(4\\pi x) + \\sin(7\\pi x)$')"
   ]
  },
  {
   "cell_type": "code",
   "execution_count": null,
   "metadata": {},
   "outputs": [],
   "source": [
    "# Next, we generate some training sample observations:\n",
    "\n",
    "# Error standard deviation. \n",
    "sigma_n = 0.4\n",
    "# Errors.\n",
    "epsilon = np.random.normal(loc=0, scale=sigma_n, size=n)\n",
    "# Observed target variable. \n",
    "y = f_x + epsilon\n",
    "# Let us see the error distribution.\n",
    "\n",
    "fig, ax = plt.subplots()\n",
    "# Plot errors. \n",
    "sns.distplot(epsilon, ax=ax)\n",
    "ax.set(title='Error Distribution');"
   ]
  },
  {
   "cell_type": "markdown",
   "metadata": {},
   "source": [
    "We now visualize the sample data:"
   ]
  },
  {
   "cell_type": "code",
   "execution_count": null,
   "metadata": {},
   "outputs": [],
   "source": [
    "fig, ax = plt.subplots()\n",
    "# Plot training data.\n",
    "sns.scatterplot(x=x, y=y, label='training data', ax=ax);\n",
    "# Plot \"true\" linear fit.\n",
    "sns.lineplot(x=x, y=f_x, color='red', label='f(x)', ax=ax);\n",
    "\n",
    "ax.set(title='Sample Data')\n",
    "ax.legend(loc='upper right')"
   ]
  },
  {
   "cell_type": "markdown",
   "metadata": {},
   "source": [
    "We now consider test data points on which we want to generate predictions."
   ]
  },
  {
   "cell_type": "code",
   "execution_count": null,
   "metadata": {},
   "outputs": [],
   "source": [
    "n_star = 100\n",
    "\n",
    "x_star = np.linspace(start=0, stop=1, num=n_star)"
   ]
  },
  {
   "cell_type": "markdown",
   "metadata": {},
   "source": [
    "### Kernel Function\n",
    "Recall that a gaussian process is completely specified by its mean and covariance functions (we usually take the mean equal to zero, although it is not necessary). A common choice is the squared exponential,\n",
    "\n",
    "$$cov(f(x_p),f(x_q))=k_{σf,ℓ}(x_p,x_q)=σ_f \\exp(−\\frac{1}{2ℓ^2}||x_p−x_q||^2) $$\n",
    "\n",
    "where $σ_f$,$ℓ$ > 0 are hyperparameters. Observe that the covariance between two samples are modeled as a function of the inputs.\n",
    "\n",
    "Remark: “It can be shown that the squared exponential covariance function corresponds to a Bayesian linear regression model with an infinite basis functions number of basis function.” ([Gaussian Processes for Machine Learning, Ch 2.2](http://www.gaussianprocess.org/gpml/chapters/RW.pdf))"
   ]
  },
  {
   "cell_type": "code",
   "execution_count": null,
   "metadata": {},
   "outputs": [],
   "source": [
    "def kernel_function(x, y, sigma_f=1, l=1):\n",
    "    \"\"\"Define squared exponential kernel function.\"\"\"\n",
    "    kernel = sigma_f * np.exp(- (np.linalg.norm(x - y)**2) / (2 * l**2))\n",
    "    return kernel"
   ]
  },
  {
   "cell_type": "code",
   "execution_count": null,
   "metadata": {},
   "outputs": [],
   "source": [
    "l = 0.1\n",
    "sigma_f = 2"
   ]
  },
  {
   "cell_type": "markdown",
   "metadata": {},
   "source": [
    "### Compute Covariance Matrices\n",
    "\n",
    "A key observation, as illustrated in [Regularized Bayesian Regression as a Gaussian Process](https://juanitorduz.github.io/reg_bayesian_regression/), is that the specification of the covariance function implies a distribution over functions.\n",
    "\n",
    "Let us denote by $K(X,X)∈ M_n(\\mathbb{R}), K(X_∗,X)∈ M_{n_∗ × n}(\\mathbb{R})$ and $K(X_∗,X_∗)∈ M_{n∗}(\\mathbb{R})$ the covariance matrices applies to \n",
    "$x$  and $x_∗$."
   ]
  },
  {
   "cell_type": "code",
   "execution_count": null,
   "metadata": {},
   "outputs": [],
   "source": [
    "import itertools\n",
    "\n",
    "def compute_cov_matrices(x, x_star, sigma_f=1, l=1):\n",
    "    \"\"\"\n",
    "    Compute components of the covariance matrix of the joint distribution.\n",
    "    \n",
    "    We follow the notation:\n",
    "    \n",
    "        - K = K(X, X) \n",
    "        - K_star = K(X_*, X)\n",
    "        - K_star2 = K(X_*, X_*)\n",
    "    \"\"\"\n",
    "    n = x.shape[0]\n",
    "    n_star = x_star.shape[0]\n",
    "\n",
    "    K = [kernel_function(i, j, sigma_f=sigma_f, l=l) for (i, j) in itertools.product(x, x)]\n",
    "\n",
    "    K = np.array(K).reshape(n, n)\n",
    "    \n",
    "    K_star2 = [kernel_function(i, j, sigma_f=sigma_f, l=l) for (i, j) in itertools.product(x_star, x_star)]\n",
    "\n",
    "    K_star2 = np.array(K_star2).reshape(n_star, n_star)\n",
    "    \n",
    "    K_star = [kernel_function(i, j, sigma_f=sigma_f, l=l) for (i, j) in itertools.product(x_star, x)]\n",
    "\n",
    "    K_star = np.array(K_star).reshape(n_star, n)\n",
    "    \n",
    "    return (K, K_star2, K_star)"
   ]
  },
  {
   "cell_type": "code",
   "execution_count": null,
   "metadata": {},
   "outputs": [],
   "source": [
    "K, K_star2, K_star = compute_cov_matrices(x, x_star, sigma_f=sigma_f, l=l)"
   ]
  },
  {
   "cell_type": "markdown",
   "metadata": {},
   "source": [
    "Visualize K"
   ]
  },
  {
   "cell_type": "code",
   "execution_count": null,
   "metadata": {},
   "outputs": [],
   "source": [
    "fig, ax = plt.subplots(figsize=(10, 8))\n",
    "sns.heatmap(data=K, cmap='Blues', ax=ax)\n",
    "ax.set(title='Components of the Kernel Matrix K');"
   ]
  },
  {
   "cell_type": "code",
   "execution_count": null,
   "metadata": {},
   "outputs": [],
   "source": [
    "fig, ax = plt.subplots(figsize=(10, 8))\n",
    "sns.heatmap(data=K_star2, cmap='Blues', ax=ax)\n",
    "ax.set(title='Components of the Kernel Matrix K_star2');"
   ]
  },
  {
   "cell_type": "code",
   "execution_count": null,
   "metadata": {},
   "outputs": [],
   "source": [
    "fig, ax = plt.subplots(figsize=(10, 8))\n",
    "sns.heatmap(data=K_star, cmap='Blues', ax=ax)\n",
    "ax.set(title='Components of the Kernel Matrix K_star');"
   ]
  },
  {
   "cell_type": "markdown",
   "metadata": {},
   "source": [
    "Note how the highest values of the support of all these matrices is localized around the diagonal.\n",
    "\n",
    "### Joint Distribution\n",
    "\n",
    "The joint distribution of $y$  and $f_∗$  is given by\n",
    "\n",
    "## $$ \\begin{pmatrix}\n",
    "\ty\\\\\n",
    "\tf_*\n",
    "\\end{pmatrix}\n",
    " \\sim \\mathcal{N}(0, C) $$\n",
    "\n",
    "\n",
    "where\n",
    "\n",
    "$$ C = \\begin{pmatrix}\n",
    "\tK(X, X) + \\sigma_n^2 I & K(X, X_*)\\\\\n",
    "\tK(X_*, X) & K(X_*, X_*)\n",
    "\\end{pmatrix} $$\n",
    "\n",
    "Observe that we need to add the term $σ^2_nI$ to the upper left component to account for noise (assuming additive independent identically distributed Gaussian noise). We now compute the matrix \n",
    "C\n",
    "."
   ]
  },
  {
   "cell_type": "code",
   "execution_count": null,
   "metadata": {},
   "outputs": [],
   "source": [
    "a = np.concatenate((K + (sigma_n**2)*np.eye(n), K_star), axis=0)\n",
    "b = np.concatenate((K_star.T, K_star2), axis=0)\n",
    "C = np.concatenate((a, b), axis=1)\n",
    "# C.shape == (n + n_star, n + n_star)\n"
   ]
  },
  {
   "cell_type": "markdown",
   "metadata": {},
   "source": [
    "Let us verify that C is symmetric."
   ]
  },
  {
   "cell_type": "code",
   "execution_count": null,
   "metadata": {},
   "outputs": [],
   "source": [
    "np.all(C.T == C)"
   ]
  },
  {
   "cell_type": "markdown",
   "metadata": {},
   "source": [
    "We can also see this visually:"
   ]
  },
  {
   "cell_type": "code",
   "execution_count": null,
   "metadata": {},
   "outputs": [],
   "source": [
    "fig, ax = plt.subplots(figsize=(10, 8))\n",
    "sns.heatmap(data=C, cmap='Blues', ax=ax)\n",
    "ax.set(title='Components of the Covariance Matrix C')"
   ]
  },
  {
   "cell_type": "markdown",
   "metadata": {},
   "source": [
    "### Prior Distribution\n",
    "From the consistency requirement of gaussian processes we know that the prior distribution for $f_∗$ is $\\mathcal{N}(0, K(X_*, X_*))$. Let us visualize some sample functions from this prior:"
   ]
  },
  {
   "cell_type": "code",
   "execution_count": null,
   "metadata": {},
   "outputs": [],
   "source": [
    "fig, ax = plt.subplots()\n",
    "\n",
    "for i in range(0, 100):\n",
    "    # Sample from prior distribution. \n",
    "    z_star = np.random.multivariate_normal(mean=np.zeros(n_star), cov=K_star2)\n",
    "    # Plot function.\n",
    "    sns.lineplot(x=x_star, y=z_star, color='blue', alpha=0.2, ax=ax)\n",
    "    \n",
    "# Plot \"true\" linear fit.\n",
    "sns.lineplot(x=x, y=f_x, color='red', label='f(x)', ax=ax)\n",
    "ax.set(title='Samples of Prior Distribution')\n",
    "ax.legend(loc='lower right');"
   ]
  },
  {
   "cell_type": "markdown",
   "metadata": {},
   "source": [
    "<h2>Conditional Distribution</h2>\n",
    "<p>As described in our main reference, <em>to get the posterior distribution over functions we need to restrict this joint\n",
    "prior distribution to contain only those functions which agree with the observed\n",
    "data points</em>, that is, we are interested in computing <span class=\"math inline\">\\(f_*|X, y, X_*\\)</span>. Using the results of <a href=\"http://www.gaussianprocess.org/gpml/chapters/RWA.pdf\">Gaussian Processes for Machine Learning, Appendinx A.2</a>, one can show that</p>\n",
    "<p><span class=\"math display\">\\[\n",
    "f_*|X, y, X_* \n",
    "\\sim\n",
    "N(\\bar{f}_*, \\text{cov}(f_*))\n",
    "\\]</span></p>\n",
    "<p>where</p>\n",
    "<p><span class=\"math display\">\\[\n",
    "\\bar{f}_* = K(X_*, X)(K(X, X) + \\sigma^2_n I)^{-1} y \\in \\mathbb{R}^{n_*}\n",
    "\\]</span></p>\n",
    "<p>and</p>\n",
    "<p><span class=\"math display\">\\[\n",
    "\\text{cov}(f_*) = K(X_*, X_*) - K(X_*, X)(K(X, X) + \\sigma^2_n I)^{-1} K(X, X_*) \\in M_{n_*}(\\mathbb{R})\n",
    "\\]</span></p>\n",
    "<p>We now calculate the parameters of the posterior distribution:</p>"
   ]
  },
  {
   "cell_type": "code",
   "execution_count": null,
   "metadata": {},
   "outputs": [],
   "source": [
    "def compute_gpr_parameters(K, K_star2, K_star, sigma_n):\n",
    "    \"\"\"Compute gaussian regression parameters.\"\"\"\n",
    "    n = K.shape[0]\n",
    "    # Mean.\n",
    "    f_bar_star = np.dot(K_star, np.dot(np.linalg.inv(K + (sigma_n**2)*np.eye(n)), y.reshape([n, d])))\n",
    "    # Covariance.\n",
    "    cov_f_star = K_star2 - np.dot(K_star, np.dot(np.linalg.inv(K + (sigma_n**2)*np.eye(n)), K_star.T))\n",
    "    \n",
    "    return (f_bar_star, cov_f_star)"
   ]
  },
  {
   "cell_type": "code",
   "execution_count": null,
   "metadata": {},
   "outputs": [],
   "source": [
    "f_bar_star, cov_f_star = compute_gpr_parameters(K, K_star2, K_star, sigma_n)"
   ]
  },
  {
   "cell_type": "code",
   "execution_count": null,
   "metadata": {},
   "outputs": [],
   "source": [
    "fig, ax = plt.subplots(figsize=(10, 8))\n",
    "sns.heatmap(data=cov_f_star, cmap='Blues', ax=ax)\n",
    "ax.set_title('Components of the Covariance Matrix cov_f_star')"
   ]
  },
  {
   "cell_type": "markdown",
   "metadata": {},
   "source": [
    "Let us now sample from the posterior distribution:"
   ]
  },
  {
   "cell_type": "code",
   "execution_count": null,
   "metadata": {},
   "outputs": [],
   "source": [
    "fig, ax = plt.subplots()\n",
    "\n",
    "for i in range(0, 100):\n",
    "    # Sample from posterior distribution. \n",
    "    z_star = np.random.multivariate_normal(mean=f_bar_star.squeeze(), cov=cov_f_star)\n",
    "    # Plot function.\n",
    "    sns.lineplot(x=x_star, y=z_star, color=\"blue\", alpha=0.2, ax=ax);\n",
    "    \n",
    "# Plot \"true\" linear fit.\n",
    "sns.lineplot(x=x, y=f_x, color='red', label = 'f(x)', ax=ax)\n",
    "ax.set(title=f'Samples of Posterior Distribution, sigma_f = {sigma_f} and l = {l}')\n",
    "ax.legend(loc='upper right');"
   ]
  },
  {
   "cell_type": "markdown",
   "metadata": {},
   "source": [
    "<h2>Hyperparameters</h2>\n",
    "<p>We now study the effect of the hyperparameters <span class=\"math inline\">\\(\\sigma_f\\)</span> and <span class=\"math inline\">\\(\\ell\\)</span> of the kernel function defined above.</p>\n",
    "<ul>\n",
    "<li><p>The hyperparameter <span class=\"math inline\">\\(\\sigma_f\\)</span> describes the amplitude of the function.</p></li>\n",
    "<li><p>The hyperparameter <span class=\"math inline\">\\(\\ell\\)</span> is a locality parameter, i.e. how far the points interact.</p></li>\n",
    "</ul>\n",
    "<p>Let us see some concrete examples:</p>\n",
    "<ul>\n",
    "<li><span class=\"math inline\">\\(\\sigma_f = 2\\)</span> and <span class=\"math inline\">\\(\\ell = 1\\)</span></li>\n",
    "</ul>\n",
    "<pre class=\"python\"><code>"
   ]
  },
  {
   "cell_type": "code",
   "execution_count": null,
   "metadata": {},
   "outputs": [],
   "source": [
    "l = 1\n",
    "l = 1\n",
    "sigma_f = 2\n",
    "\n",
    "# Compute covariance matrices. \n",
    "K, K_star2, K_star = compute_cov_matrices(x, x_star, sigma_f=sigma_f, l=l)\n",
    "# Compute gaussian process parameters. \n",
    "f_bar_star, cov_f_star = compute_gpr_parameters(K, K_star2, K_star, sigma_n)\n",
    "\n",
    "# Plot posterior covariance matrix components. \n",
    "fig, ax = plt.subplots(figsize=(10, 8))\n",
    "sns.heatmap(data=cov_f_star, cmap='Blues', ax=ax)\n",
    "ax.set(title=f'Components of the Covariance Matrix cov_f_star, sigma_f = {sigma_f} and l = {l}');"
   ]
  },
  {
   "cell_type": "markdown",
   "metadata": {},
   "source": [
    "In this case the values of the posterior covariance matrix are not that localized. This means that we expect points far away can still have some interaction, i.e. the fit becomes more global. Let us plot the resulting fit:"
   ]
  },
  {
   "cell_type": "code",
   "execution_count": null,
   "metadata": {},
   "outputs": [],
   "source": [
    "K, K_star2, K_star = compute_cov_matrices(x, x_star, sigma_f=sigma_f, l=l)\n",
    "\n",
    "f_bar_star, cov_f_star = compute_gpr_parameters(K, K_star2, K_star, sigma_n)\n",
    "\n",
    "fig, ax = plt.subplots()\n",
    "\n",
    "for i in range(0, 100):\n",
    "    # Sample from posterior distribution. \n",
    "    z_star = np.random.multivariate_normal(mean=f_bar_star.squeeze(), cov=cov_f_star)\n",
    "    # Plot function.\n",
    "    sns.lineplot(x=x_star, y=z_star, color='blue', alpha=0.2, ax=ax);\n",
    "    \n",
    "# Plot \"true\" linear fit.\n",
    "sns.lineplot(x=x, y=f_x, color='red', label='f(x)', ax=ax)\n",
    "ax.set(title=f'Samples of Posterior Distribution, sigma_f = {sigma_f} and l = {l}')\n",
    "ax.legend(loc='upper right');"
   ]
  },
  {
   "cell_type": "markdown",
   "metadata": {},
   "source": [
    "* σf=2 and ℓ=0.001"
   ]
  },
  {
   "cell_type": "code",
   "execution_count": null,
   "metadata": {
    "scrolled": true
   },
   "outputs": [],
   "source": [
    "l = 0.001\n",
    "sigma_f = 2\n",
    "\n",
    "# Compute covariance matrices. \n",
    "K, K_star2, K_star = compute_cov_matrices(x, x_star, sigma_f=sigma_f, l=l)\n",
    "# Compute gaussian process parameters. \n",
    "f_bar_star, cov_f_star = compute_gpr_parameters(K, K_star2, K_star, sigma_n)\n",
    "# Plot posterior covariance matrix components. \n",
    "fig, ax = plt.subplots(figsize=(10, 8))\n",
    "sns.heatmap(data=cov_f_star, cmap='Blues', ax=ax)\n",
    "ax.set(title=f'Components of the Covariance Matrix cov_f_star, sigma_f = {sigma_f} and l = {l}');"
   ]
  },
  {
   "cell_type": "markdown",
   "metadata": {},
   "source": [
    "In contrast, we see that for these set of hyper parameters the higher values of the posterior covariance matrix are concentrated along the diagonal. This means that we expect points far away to have no effect on each other, i.e. the fit becomes more local. Let us plot the resulting fit:"
   ]
  },
  {
   "cell_type": "code",
   "execution_count": null,
   "metadata": {},
   "outputs": [],
   "source": [
    "fig, ax = plt.subplots()\n",
    "\n",
    "for i in range(0, 100):\n",
    "    # Sample from posterior distribution. \n",
    "    z_star = np.random.multivariate_normal(mean=f_bar_star.squeeze(), cov=cov_f_star)\n",
    "    # Plot function.\n",
    "    sns.lineplot(x=x_star, y=z_star, color='blue', alpha=0.2, ax=ax);\n",
    "    \n",
    "# Plot \"true\" linear fit.\n",
    "sns.lineplot(x=x, y=f_x, color='red', label='f(x)', ax=ax)\n",
    "ax.set(title=f'Samples of Posterior Distribution, sigma_f = {sigma_f} and l = {l}')\n",
    "ax.legend(loc='upper right');"
   ]
  },
  {
   "cell_type": "markdown",
   "metadata": {},
   "source": [
    "<h2>GaussianProcessRegressor from Scikit-Learn</h2>\n",
    "<p>Note that in the examples above he had to compute the inverse of <span class=\"math inline\">\\(K(X,X) + \\sigma_n^2 I\\)</span>, which can be computationally expensive for larger data sets. A better approach is to use the Cholesky decomposition of <span class=\"math inline\">\\(K(X,X) + \\sigma_n^2 I\\)</span> as described in <a href=\"http://www.gaussianprocess.org/gpml/chapters/RW2.pdf\">Gaussian Processes for Machine Learning, Ch 2 Algorithm 2.1</a>. This is actually the implementation used by <a href=\"https://scikit-learn.org/stable/modules/generated/sklearn.gaussian_process.GaussianProcessRegressor.html#sklearn.gaussian_process.GaussianProcessRegressor\">Scikit-Learn</a>. We now describe how to fit a GaussianProcessRegressor model using Scikit-Learn and compare it with the results obtained above. Please refer to the <a href=\"https://scikit-learn.org/stable/auto_examples/gaussian_process/plot_gpr_noisy_targets.html\">docomentation example</a> to get more detailed information.</p>\n",
    "<div id=\"kernel-object\" class=\"section level3\">\n",
    "<h3>Kernel Object</h3>\n",
    "<p>There are my <a href=\"https://scikit-learn.org/stable/modules/classes.html#module-sklearn.gaussian_process\">kernel functions</a> implemented in Scikit-Learn. Let us see how define the squared exponential:</p>"
   ]
  },
  {
   "cell_type": "code",
   "execution_count": null,
   "metadata": {},
   "outputs": [],
   "source": [
    "from sklearn.gaussian_process import GaussianProcessRegressor\n",
    "from sklearn.gaussian_process.kernels import ConstantKernel, RBF\n",
    "\n",
    "# Define kernel parameters. \n",
    "l = 0.1\n",
    "sigma_f = 2\n",
    "\n",
    "# Define kernel object. \n",
    "kernel = ConstantKernel(constant_value=sigma_f,constant_value_bounds=(1e-3, 1e3)) \\\n",
    "            * RBF(length_scale=l, length_scale_bounds=(1e-3, 1e3))"
   ]
  },
  {
   "cell_type": "code",
   "execution_count": null,
   "metadata": {},
   "outputs": [],
   "source": [
    "# ConstantKernel(constant_value=1,constant_value_bounds=(1e-3, 1e3)) "
   ]
  },
  {
   "cell_type": "markdown",
   "metadata": {},
   "source": [
    "<p>The tuples on each kernel component represent the lower and upper bound of the hyperparameters. The gaussian process fit automatically selects the best hyperparameters which maximize the log-marginal likelihood. The marginal likelihood is the integral of the likelihood times the prior.</p>\n",
    "</div>\n",
    "<div id=\"gaussianprocessregressor\" class=\"section level3\">\n",
    "<h3>GaussianProcessRegressor</h3>\n",
    "<p>Now we define de <a href=\"https://scikit-learn.org/stable/modules/generated/sklearn.gaussian_process.GaussianProcessRegressor.html\"><code>GaussianProcessRegressor</code></a> object.</p>\n",
    "<pre class=\"python\"><code>\n",
    "\n",
    "**Note:** GaussianProcessRegressor does not allow the specification of mean function which is assumed to be the zero function\n",
    "\n",
    "**Another Resource**\n",
    "[Domino Data Lab](https://blog.dominodatalab.com/fitting-gaussian-process-models-python/)"
   ]
  },
  {
   "cell_type": "code",
   "execution_count": null,
   "metadata": {},
   "outputs": [],
   "source": [
    "from sklearn.gaussian_process import GaussianProcessRegressor\n",
    "# Define GaussianProcessRegressor object. \n",
    "# gp = GaussianProcessRegressor(kernel=kernel, alpha=sigma_n**2, n_restarts_optimizer=10)\n",
    "gp = GaussianProcessRegressor(alpha=0.16000000000000003, copy_X_train=True,\n",
    "                         kernel=kernel * RBF(length_scale=0.1),\n",
    "                         n_restarts_optimizer=10, normalize_y=False,\n",
    "                         optimizer='fmin_l_bfgs_b', random_state=None)"
   ]
  },
  {
   "cell_type": "code",
   "execution_count": null,
   "metadata": {},
   "outputs": [],
   "source": [
    "X = x.reshape(n, d)\n",
    "X_star = x_star.reshape(n_star, d)\n",
    "# Fit to data using Maximum Likelihood Estimation of the parameters.\n",
    "gp.fit(X, y)"
   ]
  },
  {
   "cell_type": "markdown",
   "metadata": {},
   "source": [
    "### Predictions"
   ]
  },
  {
   "cell_type": "code",
   "execution_count": null,
   "metadata": {},
   "outputs": [],
   "source": [
    "# Make the prediction on test set.\n",
    "y_pred = gp.predict(X_star)\n",
    "# y_pred, sigma = gp.predict(X_star, return_std=True)\n",
    "\n",
    "# Let us plot the prediction.\n",
    "\n",
    "fig, ax = plt.subplots()\n",
    "# Plot \"true\" linear fit.\n",
    "sns.lineplot(x=x, y=f_x, color='red', label='f(x)', ax=ax)\n",
    "# Plot prediction. \n",
    "sns.lineplot(x=x_star, y=y_pred, color='green', label='pred', ax=ax)\n",
    "ax.set(title=f'Prediction GaussianProcessRegressor, sigma_f = {sigma_f} and l = {l}')\n",
    "ax.legend(loc='upper right');"
   ]
  },
  {
   "cell_type": "markdown",
   "metadata": {},
   "source": [
    "Next, we plot this prediction against many samples from the posterior distribution obtained above."
   ]
  },
  {
   "cell_type": "code",
   "execution_count": null,
   "metadata": {},
   "outputs": [],
   "source": [
    "K, K_star2, K_star = compute_cov_matrices(x, x_star, sigma_f = sigma_f, l = l)\n",
    "\n",
    "f_bar_star, cov_f_star = compute_gpr_parameters(K, K_star2, K_star, sigma_n)\n",
    "\n",
    "fig, ax = plt.subplots()\n",
    "\n",
    "for i in range(0, 100):\n",
    "    # Sample from posterior distribution. \n",
    "    z_star = np.random.multivariate_normal(mean=f_bar_star.squeeze(), cov=cov_f_star)\n",
    "    # Plot function.\n",
    "    sns.lineplot(x=x_star, y=z_star, color='blue', alpha=0.05, ax=ax);\n",
    "    \n",
    "# Plot \"true\" linear fit.\n",
    "sns.lineplot(x=x, y=f_x, color='red', label='f(x)', ax=ax);\n",
    "# Plot prediction. \n",
    "sns.lineplot(x=x_star, y=y_pred, color='green', label='pred', ax=ax);\n",
    "ax.set(title=f'Prediction GaussianProcessRegressor, sigma_f = {sigma_f} and l = {l}')\n",
    "ax.legend(loc='upper right')"
   ]
  },
  {
   "cell_type": "markdown",
   "metadata": {},
   "source": [
    "Credible Interval Interval\n",
    "Let us compute the credible intervals:"
   ]
  },
  {
   "cell_type": "code",
   "execution_count": null,
   "metadata": {},
   "outputs": [],
   "source": [
    "# Generate samples from posterior distribution. \n",
    "y_hat_samples = np.random.multivariate_normal(mean=f_bar_star.squeeze(), cov=cov_f_star, size=100)\n",
    "# Compute the mean of the sample. \n",
    "y_hat = np.apply_over_axes(func=np.mean, a=y_hat_samples, axes=0).squeeze()\n",
    "# Compute the standard deviation of the sample. \n",
    "y_hat_sd = np.apply_over_axes(func=np.std, a=y_hat_samples, axes=0).squeeze()"
   ]
  },
  {
   "cell_type": "markdown",
   "metadata": {},
   "source": [
    "We now plot the confidence interval corresponding to a corridor associated with two standard deviations."
   ]
  },
  {
   "cell_type": "code",
   "execution_count": null,
   "metadata": {},
   "outputs": [],
   "source": [
    "fig, ax = plt.subplots()\n",
    "# Plot training data.\n",
    "sns.scatterplot(x=x, y=y, label='training data', ax=ax)\n",
    "# Plot corridor. \n",
    "ax.fill_between(\n",
    "    x=x_star, \n",
    "    y1=(y_hat - 2*y_hat_sd), \n",
    "    y2=(y_hat + 2*y_hat_sd), \n",
    "    color='green', \n",
    "    alpha = 0.3, \n",
    "    label='Credible Interval'\n",
    ")\n",
    "# Plot \"true\" linear fit.\n",
    "sns.lineplot(x=x, y=f_x, color='red', label='f(x)', ax=ax);\n",
    "# Plot prediction. \n",
    "sns.lineplot(x=x_star, y=y_pred, color='green', label='pred', ax=ax)\n",
    "ax.set_title('Prediction & Credible Interval, sigma_f = {} and l = {}'.format(sigma_f, l))\n",
    "ax.legend(loc='upper right')"
   ]
  },
  {
   "cell_type": "markdown",
   "metadata": {},
   "source": [
    "### Summary & Final Example\n",
    "In this post we have studied and experimented the fundamentals of gaussian process regression with the intention to gain some intuition about it. Let us finalize with a self-contain example where we only use the tools from Scikit-Learn.\n",
    "\n",
    "**Construct Training Set**"
   ]
  },
  {
   "cell_type": "code",
   "execution_count": null,
   "metadata": {},
   "outputs": [],
   "source": [
    "# Set dimension. \n",
    "d = 1\n",
    "# Number of training points.\n",
    "n = 1000\n",
    "# Length of the training set. \n",
    "L = 2\n",
    "# Generate training features.\n",
    "x = np.linspace(start=0, stop=L, num=n)\n",
    "X = x.reshape(n, d)\n",
    "# Error standar deviation. \n",
    "sigma_n = 0.4\n",
    "# Errors.\n",
    "epsilon = np.random.normal(loc=0, scale=sigma_n, size=n)\n",
    "\n",
    "# Generate non-linear function.\n",
    "def f(x):\n",
    "    f = np.sin((4*np.pi)*x) + np.sin((7*np.pi)*x) + np.sin((3*np.pi)*x) \n",
    "    return(f)\n",
    "\n",
    "f_x = f(x)\n",
    "\n",
    "# Observed target variable. \n",
    "y = f_x + epsilon"
   ]
  },
  {
   "cell_type": "markdown",
   "metadata": {},
   "source": [
    "**Construct Test Set**"
   ]
  },
  {
   "cell_type": "code",
   "execution_count": null,
   "metadata": {},
   "outputs": [],
   "source": [
    "n_star = n + 300\n",
    "x_star = np.linspace(start=0, stop=(L + 0.5), num=n_star)\n",
    "\n",
    "X_star = x_star.reshape(n_star, d)"
   ]
  },
  {
   "cell_type": "markdown",
   "metadata": {},
   "source": [
    "**Define Kernel and Model**"
   ]
  },
  {
   "cell_type": "code",
   "execution_count": null,
   "metadata": {},
   "outputs": [],
   "source": [
    "# Define kernel parameters. \n",
    "l = 0.1\n",
    "sigma_f = 2\n",
    "\n",
    "# Define kernel object. \n",
    "kernel = ConstantKernel(constant_value=sigma_f, constant_value_bounds=(1e-2, 1e2)) \\\n",
    "            * RBF(length_scale=l, length_scale_bounds=(1e-2, 1e2))\n",
    "# Define GaussianProcessRegressor object. \n",
    "gp = GaussianProcessRegressor(kernel=kernel, alpha=sigma_n**2, n_restarts_optimizer=10, )"
   ]
  },
  {
   "cell_type": "markdown",
   "metadata": {},
   "source": [
    "**Model Fit + Predictions**"
   ]
  },
  {
   "cell_type": "code",
   "execution_count": null,
   "metadata": {},
   "outputs": [],
   "source": [
    "# Fit to data using Maximum Likelihood Estimation of the parameters.\n",
    "gp.fit(X, y)\n",
    "# Make the prediction on test set.\n",
    "y_pred = gp.predict(X_star)\n",
    "# Generate samples from posterior distribution. \n",
    "y_hat_samples = gp.sample_y(X_star, n_samples=n_star)\n",
    "# Compute the mean of the sample. \n",
    "y_hat = np.apply_over_axes(func=np.mean, a=y_hat_samples, axes=1).squeeze()\n",
    "# Compute the standard deviation of the sample. \n",
    "y_hat_sd = np.apply_over_axes(func=np.std, a=y_hat_samples, axes=1).squeeze()"
   ]
  },
  {
   "cell_type": "markdown",
   "metadata": {},
   "source": [
    "**Visualize Results**"
   ]
  },
  {
   "cell_type": "code",
   "execution_count": null,
   "metadata": {
    "scrolled": true
   },
   "outputs": [],
   "source": [
    "fig, ax = plt.subplots(figsize=(15, 8))\n",
    "# Plot training data.\n",
    "sns.scatterplot(x=x, y=y, label='training data', ax=ax);\n",
    "# Plot \"true\" linear fit.\n",
    "sns.lineplot(\n",
    "    x=x_star, \n",
    "    y=f(x_star), \n",
    "    color='red', \n",
    "    label='f(x)', \n",
    "    ax=ax\n",
    ")\n",
    "# Plot corridor. \n",
    "ax.fill_between(\n",
    "    x=x_star, \n",
    "    y1=(y_hat - 2*y_hat_sd), \n",
    "    y2=(y_hat + 2*y_hat_sd), \n",
    "    color='green',\n",
    "    alpha=0.3, \n",
    "    label='Credible Interval'\n",
    ")\n",
    "# Plot prediction. \n",
    "sns.lineplot(x=x_star, y=y_pred, color='green', label='pred')\n",
    "ax.set(title='Prediction & Credible Interval')\n",
    "ax.legend(loc='lower left');"
   ]
  },
  {
   "cell_type": "markdown",
   "metadata": {},
   "source": [
    "## Another Method"
   ]
  },
  {
   "cell_type": "code",
   "execution_count": 2,
   "metadata": {},
   "outputs": [],
   "source": [
    "def exponential_cov(x, y, params):\n",
    "    return params[0] * np.exp( -0.5 * params[1] * np.subtract.outer(x, y)**2)"
   ]
  },
  {
   "cell_type": "markdown",
   "metadata": {},
   "source": [
    "**Conditioning**\n",
    "$$p(x|y) = \\mathcal{N}(\\mu_x + \\Sigma_{xy}\\Sigma_y^{-1}(y - \\mu_y), ~\\Sigma_x - \\Sigma_{xy}\\Sigma_y^{-1}\\Sigma_{xy}^T)$$"
   ]
  },
  {
   "cell_type": "code",
   "execution_count": 3,
   "metadata": {},
   "outputs": [],
   "source": [
    "def conditional(x_new, x, y, params):\n",
    " \n",
    "    B = exponential_cov(x_new, x, params)  # \\Sigma_xy\n",
    "    C = exponential_cov(x, x, params)  # \\Sigma_y\n",
    "    A = exponential_cov(x_new, x_new, params)  # \\Sigma_x\n",
    "\n",
    "    mu = np.linalg.inv(C).dot(B.T).T.dot(y)\n",
    "    sigma = A - B.dot(np.linalg.inv(C).dot(B.T))\n",
    "\n",
    "    return(mu.squeeze(), sigma.squeeze())"
   ]
  },
  {
   "cell_type": "code",
   "execution_count": 4,
   "metadata": {},
   "outputs": [
    {
     "data": {
      "text/plain": [
       "<ErrorbarContainer object of 3 artists>"
      ]
     },
     "execution_count": 4,
     "metadata": {},
     "output_type": "execute_result"
    },
    {
     "data": {
      "image/png": "[encoded data removed]",
      "text/plain": [
       "<Figure size 1200x600 with 1 Axes>"
      ]
     },
     "metadata": {
      "needs_background": "light"
     },
     "output_type": "display_data"
    }
   ],
   "source": [
    "import matplotlib.pylab as plt\n",
    " \n",
    "θ = [1, 10]  # hyperparameters\n",
    "σ_0 = exponential_cov(0, 0, θ)\n",
    "xpts = np.arange(-3, 3, step=0.01)\n",
    "plt.errorbar(xpts, np.zeros(len(xpts)), yerr=σ_0, capsize=0)"
   ]
  },
  {
   "cell_type": "code",
   "execution_count": 5,
   "metadata": {},
   "outputs": [
    {
     "data": {
      "text/plain": [
       "1.0"
      ]
     },
     "execution_count": 5,
     "metadata": {},
     "output_type": "execute_result"
    }
   ],
   "source": [
    "σ_0"
   ]
  },
  {
   "cell_type": "code",
   "execution_count": 6,
   "metadata": {},
   "outputs": [
    {
     "data": {
      "text/plain": [
       "[0.8825059246951147]"
      ]
     },
     "execution_count": 6,
     "metadata": {},
     "output_type": "execute_result"
    }
   ],
   "source": [
    "x = [1.]\n",
    "y = [np.random.normal(scale=σ_0)]\n",
    "y"
   ]
  },
  {
   "cell_type": "code",
   "execution_count": 9,
   "metadata": {
    "scrolled": false
   },
   "outputs": [
    {
     "data": {
      "text/plain": [
       "[<matplotlib.lines.Line2D at 0x7f8e330aeb38>]"
      ]
     },
     "execution_count": 9,
     "metadata": {},
     "output_type": "execute_result"
    },
    {
     "data": {
      "image/png": "[encoded data removed]",
      "text/plain": [
       "<Figure size 1200x600 with 1 Axes>"
      ]
     },
     "metadata": {
      "needs_background": "light"
     },
     "output_type": "display_data"
    }
   ],
   "source": [
    "σ_1 = exponential_cov(x, x, θ)\n",
    " \n",
    "def predict(x, data, kernel, params, sigma, t):\n",
    "    k = [kernel(x, y, params) for y in data]\n",
    "    Sinv = np.linalg.inv(sigma)\n",
    "    y_pred = np.dot(k, Sinv).dot(t)\n",
    "    sigma_new = kernel(x, x, params) - np.dot(k, Sinv).dot(k)\n",
    "    return y_pred, sigma_new\n",
    " \n",
    "x_pred = np.linspace(-3, 3, 1000)\n",
    "predictions = [predict(i, x, exponential_cov, θ, σ_1, y) for i in x_pred]\n",
    "\n",
    "y_pred, sigmas = np.transpose(predictions)\n",
    "plt.errorbar(x_pred, y_pred, yerr=sigmas, capsize=0)\n",
    "plt.plot(x_pred, y_pred, 'g^')\n",
    "plt.plot(x, y, \"ro\")"
   ]
  },
  {
   "cell_type": "code",
   "execution_count": null,
   "metadata": {},
   "outputs": [],
   "source": [
    "np.where(x_pred==1)"
   ]
  },
  {
   "cell_type": "code",
   "execution_count": null,
   "metadata": {},
   "outputs": [],
   "source": [
    "y_pred[666]"
   ]
  },
  {
   "cell_type": "code",
   "execution_count": 10,
   "metadata": {},
   "outputs": [
    {
     "data": {
      "text/plain": [
       "((1000,), (1000,))"
      ]
     },
     "execution_count": 10,
     "metadata": {},
     "output_type": "execute_result"
    }
   ],
   "source": [
    "sigmas.shape, y_pred.shape"
   ]
  },
  {
   "cell_type": "code",
   "execution_count": null,
   "metadata": {},
   "outputs": [],
   "source": [
    "# zz = np.zeros(100)\n",
    "# for i in range(100):\n",
    "#     zz[i] = np.random.normal(loc=y_pred.squeeze(), scale=sigmas)\n",
    "# plt.plot(x_pred, zz, 'r')"
   ]
  },
  {
   "cell_type": "code",
   "execution_count": 11,
   "metadata": {},
   "outputs": [
    {
     "data": {
      "text/plain": [
       "-2.036494498073746"
      ]
     },
     "execution_count": 11,
     "metadata": {},
     "output_type": "execute_result"
    }
   ],
   "source": [
    "m, s = conditional([-0.7], x, y, θ)\n",
    "y2 = np.random.normal(m, s)\n",
    "y2"
   ]
  },
  {
   "cell_type": "code",
   "execution_count": 12,
   "metadata": {},
   "outputs": [],
   "source": [
    "x.append(-0.7)\n",
    "y.append(y2)\n",
    " \n",
    "σ_2 = exponential_cov(x, x, θ)\n",
    "predictions = [predict(i, x, exponential_cov, θ, σ_2, y) for i in x_pred]"
   ]
  },
  {
   "cell_type": "code",
   "execution_count": 13,
   "metadata": {},
   "outputs": [
    {
     "data": {
      "text/plain": [
       "[<matplotlib.lines.Line2D at 0x7f8e32e178d0>]"
      ]
     },
     "execution_count": 13,
     "metadata": {},
     "output_type": "execute_result"
    },
    {
     "data": {
      "image/png": "[encoded data removed]",
      "text/plain": [
       "<Figure size 1200x600 with 1 Axes>"
      ]
     },
     "metadata": {
      "needs_background": "light"
     },
     "output_type": "display_data"
    }
   ],
   "source": [
    "y_pred, sigmas = np.transpose(predictions)\n",
    "plt.errorbar(x_pred, y_pred, yerr=sigmas, capsize=0)\n",
    "plt.plot(x, y, \"ro\")\n",
    "plt.plot(x_pred, y_pred, 'g^')"
   ]
  },
  {
   "cell_type": "code",
   "execution_count": 14,
   "metadata": {},
   "outputs": [
    {
     "data": {
      "text/plain": [
       "array([-0.5561484 ,  0.43085762, -0.6150391 , -0.82350262,  0.48581688])"
      ]
     },
     "execution_count": 14,
     "metadata": {},
     "output_type": "execute_result"
    }
   ],
   "source": [
    "x_more = [-2.1, -1.5, 0.3, 1.8, 2.5]\n",
    "mu, s = conditional(x_more, x, y, θ)\n",
    "y_more = np.random.multivariate_normal(mu, s)\n",
    "y_more"
   ]
  },
  {
   "cell_type": "code",
   "execution_count": 17,
   "metadata": {},
   "outputs": [
    {
     "data": {
      "text/plain": [
       "[<matplotlib.lines.Line2D at 0x7f8e3291c2e8>]"
      ]
     },
     "execution_count": 17,
     "metadata": {},
     "output_type": "execute_result"
    },
    {
     "data": {
      "image/png": "[encoded data removed]",
      "text/plain": [
       "<Figure size 1200x600 with 1 Axes>"
      ]
     },
     "metadata": {
      "needs_background": "light"
     },
     "output_type": "display_data"
    }
   ],
   "source": [
    "x += x_more\n",
    "y += y_more.tolist()\n",
    " \n",
    "σ_new = exponential_cov(x, x, θ)\n",
    "predictions = [predict(i, x, exponential_cov, θ, σ_new, y) for i in x_pred]\n",
    " \n",
    "y_pred, sigmas = np.transpose(predictions)\n",
    "plt.errorbar(x_pred, y_pred, yerr=sigmas, capsize=0)\n",
    "plt.plot(x, y, \"ro\")\n",
    "# plt.plot(x_pred, y_pred, 'g^')"
   ]
  },
  {
   "cell_type": "code",
   "execution_count": null,
   "metadata": {},
   "outputs": [],
   "source": [
    "x"
   ]
  },
  {
   "cell_type": "code",
   "execution_count": null,
   "metadata": {},
   "outputs": [],
   "source": []
  }
 ],
 "metadata": {
  "kernelspec": {
   "display_name": "venvTF2",
   "language": "python",
   "name": "venvtf2"
  },
  "language_info": {
   "codemirror_mode": {
    "name": "ipython",
    "version": 3
   },
   "file_extension": ".py",
   "mimetype": "text/x-python",
   "name": "python",
   "nbconvert_exporter": "python",
   "pygments_lexer": "ipython3",
   "version": "3.6.9"
  }
 },
 "nbformat": 4,
 "nbformat_minor": 2
}
