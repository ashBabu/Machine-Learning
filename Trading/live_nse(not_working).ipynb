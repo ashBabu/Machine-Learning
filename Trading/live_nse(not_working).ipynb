{
 "cells": [
  {
   "cell_type": "code",
   "execution_count": 1,
   "metadata": {},
   "outputs": [
    {
     "name": "stderr",
     "output_type": "stream",
     "text": [
      "usage: ipykernel_launcher.py [-h] [-l] [-p] [-q]\n",
      "ipykernel_launcher.py: error: unrecognized arguments: -f /home/ash/.local/share/jupyter/runtime/kernel-eec8efad-5c4e-414c-935b-a3404adb0895.json\n"
     ]
    },
    {
     "ename": "SystemExit",
     "evalue": "2",
     "output_type": "error",
     "traceback": [
      "An exception has occurred, use %tb to see the full traceback.\n",
      "\u001b[0;31mSystemExit\u001b[0m\u001b[0;31m:\u001b[0m 2\n"
     ]
    },
    {
     "name": "stderr",
     "output_type": "stream",
     "text": [
      "/home/ash/Ash/venvTF2/lib/python3.6/site-packages/IPython/core/interactiveshell.py:3351: UserWarning: To exit: use 'exit', 'quit', or Ctrl-D.\n",
      "  warn(\"To exit: use 'exit', 'quit', or Ctrl-D.\", stacklevel=1)\n"
     ]
    }
   ],
   "source": [
    "import numpy as np\n",
    "import matplotlib.pyplot as plt\n",
    "import matplotlib.animation as animation\n",
    "from matplotlib import style\n",
    "import sys\n",
    "# from playsound import playsound\n",
    "\n",
    "from utilities import *\n",
    "import argparse\n",
    "\n",
    "parser = argparse.ArgumentParser(description='Get Live bar graph data of Option Chain')\n",
    "parser.add_argument('-l', '--link', type=str, metavar='',\n",
    "                    default='https://www.nseindia.com/live_market/dynaContent/live_watch/option_chain/optionKeys.jsp?symbolCode=-9999&symbol=BANKNIFTY&symbol=BANKNIFTY&instrument=OPTIDX&date=-&segmentLink=17&segmentLink=17',\n",
    "                    help='Link of the required Derivative')\n",
    "parser.add_argument('-p', '--pointsnum', type=int, default=7, metavar='',\n",
    "                    help='Number of points required on either side')\n",
    "parser.add_argument('-q', '--quantity', type=str, default='OI', metavar='', help='What you want to plot')\n",
    "args = parser.parse_args()\n",
    "##style.use('fivethirtyeight')\n",
    "\n",
    "fig = plt.figure()\n",
    "ax1 = fig.add_subplot(1, 1, 1)\n",
    "data1 = np.zeros(1)\n",
    "\n",
    "\n",
    "def animate(i):\n",
    "    web_data = nse_data(args.link)\n",
    "    ##Get Data\n",
    "    global data1\n",
    "    data = np.asarray(web_data[\"Data\"])\n",
    "    if not np.array_equal(data1, data):\n",
    "        # playsound('notification.wav')\n",
    "        pass\n",
    "    ##Total Size of Chart\n",
    "    ##mid_value = data.shape[0]\n",
    "    values_from_mid = args.pointsnum\n",
    "    spot_price = web_data[\"Price\"]\n",
    "    mid_value = np.argmin(np.abs(data[:, 10] - spot_price))\n",
    "    ##Number of prices you want\n",
    "    index_start = int(mid_value - values_from_mid)\n",
    "    index_end = int(mid_value + values_from_mid)\n",
    "    bar_width = 0.35\n",
    "    ## Annotations we need\n",
    "    strike_prices = data[index_start:index_end, 10]\n",
    "    for index in range(len(web_data[\"Headers\"])):\n",
    "        if web_data[\"Headers\"][index] == args.quantity:\n",
    "            break\n",
    "\n",
    "    indices = np.arange(index_end - index_start)\n",
    "    y1 = data[index_start:index_end, index].astype(float)\n",
    "    y2 = data[index_start:index_end, -1 - index].astype(float)\n",
    "    ax1.clear()\n",
    "    ax1.bar(indices, y1, bar_width, color='b', label='Call')\n",
    "    ax1.bar(indices + bar_width, y2, bar_width, color='r', label='Puts')\n",
    "    ax1.set_xlabel('Strike Prices')\n",
    "    ax1.set_ylabel(args.quantity)\n",
    "    ax1.set_title('Live Bar Graph for ' + args.quantity + ' with Spot Price : ' + str(web_data[\"Price\"]))\n",
    "    ax1.set_xticks(indices + bar_width / 2)\n",
    "    ax1.set_xticklabels(strike_prices, rotation=90)\n",
    "    ax1.legend()\n",
    "    ax1.grid()\n",
    "    data1 = data\n",
    "\n",
    "\n",
    "ani = animation.FuncAnimation(fig, animate, interval=10000)\n",
    "plt.show()"
   ]
  },
  {
   "cell_type": "code",
   "execution_count": null,
   "metadata": {},
   "outputs": [],
   "source": []
  }
 ],
 "metadata": {
  "kernelspec": {
   "display_name": "venvTF2",
   "language": "python",
   "name": "venvtf2"
  },
  "language_info": {
   "codemirror_mode": {
    "name": "ipython",
    "version": 3
   },
   "file_extension": ".py",
   "mimetype": "text/x-python",
   "name": "python",
   "nbconvert_exporter": "python",
   "pygments_lexer": "ipython3",
   "version": "3.6.9"
  }
 },
 "nbformat": 4,
 "nbformat_minor": 2
}
