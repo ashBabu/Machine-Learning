{
 "cells": [
  {
   "cell_type": "markdown",
   "metadata": {},
   "source": [
    "<center> <h1> Modern Portfolio Theory </h1> </center> "
   ]
  },
  {
   "cell_type": "markdown",
   "metadata": {},
   "source": [
    "MPT assumes average human prefers a less risky portfolio. Credited to Henry Markowitz for which he won the Nobel Prize\n"
   ]
  },
  {
   "cell_type": "markdown",
   "metadata": {},
   "source": [
    "## Theory"
   ]
  },
  {
   "cell_type": "markdown",
   "metadata": {},
   "source": [
    "Expected return of a portfolio = Sum(weight of an asset x return from it) \n",
    "\n",
    "\n",
    "$E(R_p) = \\sum_i w_i E(R_i) $\n",
    "\n",
    "\n",
    "Variance or Risk of a portfolio is measured as\n",
    "\n",
    "$\\sigma_p^2 = \\sum_i w_i^2 \\sigma_i^2 + \\sum_i \\sum_{j\\ne i} w_iw_j\\sigma_i \\sigma_j \\rho_{ij}$\n",
    "\n",
    "where $\\sigma_p, \\sigma_i,j, w_i,j, \\rho$ respectively are portfolio variance, each asset variance, weights and correleation coeff between i and j"
   ]
  },
  {
   "cell_type": "markdown",
   "metadata": {},
   "source": [
    "### Sharpe ratio\n",
    "The Sharpe ratio gives the return of an investment in relation to the risk-free rate (Treasury rate) and its risk profile. In general, a higher value for the Sharpe ratio indicates a lucrative investment.\n",
    "\n",
    "\n",
    "S = $\\frac{R_p - R_f}{\\sigma_p}$\n",
    "\n",
    "where $R_p, R_f, \\sigma_p$ respectively gives the return of portfolio, risk-free rate and std deviation of the portfolio's excess return"
   ]
  },
  {
   "cell_type": "code",
   "execution_count": 1,
   "metadata": {
    "colab": {
     "base_uri": "https://localhost:8080/",
     "height": 72
    },
    "colab_type": "code",
    "id": "43hoPhIJg3Z4",
    "outputId": "18419a34-9cc2-4510-a6a5-63ab182c0da1"
   },
   "outputs": [
    {
     "name": "stderr",
     "output_type": "stream",
     "text": [
      "/home/ash/Ash/venv3.6_tf_2/lib/python3.6/site-packages/pandas_datareader/compat/__init__.py:7: FutureWarning: pandas.util.testing is deprecated. Use the functions in the public API at pandas.testing instead.\n",
      "  from pandas.util.testing import assert_frame_equal\n"
     ]
    }
   ],
   "source": [
    "import matplotlib.pyplot as plt\n",
    "import numpy as np\n",
    "import pandas as pd\n",
    "import pandas_datareader as web\n",
    "from matplotlib.ticker import FuncFormatter"
   ]
  },
  {
   "cell_type": "code",
   "execution_count": 2,
   "metadata": {
    "colab": {
     "base_uri": "https://localhost:8080/",
     "height": 356
    },
    "colab_type": "code",
    "id": "-gH7NCwUi6Do",
    "outputId": "cae38a33-3f8a-4371-d7f6-3d05deb3b452"
   },
   "outputs": [
    {
     "name": "stdout",
     "output_type": "stream",
     "text": [
      "Collecting PyPortfolioOpt\n",
      "\u001b[33m  Cache entry deserialization failed, entry ignored\u001b[0m\n",
      "\u001b[31m  Could not find a version that satisfies the requirement PyPortfolioOpt (from versions: )\u001b[0m\n",
      "\u001b[31mNo matching distribution found for PyPortfolioOpt\u001b[0m\n"
     ]
    }
   ],
   "source": [
    "!pip install PyPortfolioOpt\n",
    "#Installing the Portfolio Optimzation Library"
   ]
  },
  {
   "cell_type": "code",
   "execution_count": 3,
   "metadata": {
    "colab": {},
    "colab_type": "code",
    "id": "yJ3EWvBxk0su"
   },
   "outputs": [],
   "source": [
    "from pypfopt.efficient_frontier import EfficientFrontier \n",
    "from pypfopt import risk_models \n",
    "from pypfopt import expected_returns\n",
    "from pypfopt.cla import CLA\n",
    "import pypfopt.plotting as pplt\n",
    "from matplotlib.ticker import FuncFormatter"
   ]
  },
  {
   "cell_type": "code",
   "execution_count": 17,
   "metadata": {
    "colab": {
     "base_uri": "https://localhost:8080/",
     "height": 237
    },
    "colab_type": "code",
    "id": "l0HjTuUsk4Bm",
    "outputId": "89a6a8b7-2f39-4089-d4b9-a787e4568713"
   },
   "outputs": [
    {
     "data": {
      "text/html": [
       "<div>\n",
       "<style scoped>\n",
       "    .dataframe tbody tr th:only-of-type {\n",
       "        vertical-align: middle;\n",
       "    }\n",
       "\n",
       "    .dataframe tbody tr th {\n",
       "        vertical-align: top;\n",
       "    }\n",
       "\n",
       "    .dataframe thead th {\n",
       "        text-align: right;\n",
       "    }\n",
       "</style>\n",
       "<table border=\"1\" class=\"dataframe\">\n",
       "  <thead>\n",
       "    <tr style=\"text-align: right;\">\n",
       "      <th></th>\n",
       "      <th>BSX</th>\n",
       "      <th>AES</th>\n",
       "      <th>BRK-B</th>\n",
       "      <th>SEE</th>\n",
       "      <th>QQQ</th>\n",
       "      <th>SPY</th>\n",
       "    </tr>\n",
       "    <tr>\n",
       "      <th>Date</th>\n",
       "      <th></th>\n",
       "      <th></th>\n",
       "      <th></th>\n",
       "      <th></th>\n",
       "      <th></th>\n",
       "      <th></th>\n",
       "    </tr>\n",
       "  </thead>\n",
       "  <tbody>\n",
       "    <tr>\n",
       "      <th>2020-06-08</th>\n",
       "      <td>39.110001</td>\n",
       "      <td>14.97</td>\n",
       "      <td>201.559998</td>\n",
       "      <td>34.930000</td>\n",
       "      <td>241.130676</td>\n",
       "      <td>321.783966</td>\n",
       "    </tr>\n",
       "    <tr>\n",
       "      <th>2020-06-09</th>\n",
       "      <td>38.259998</td>\n",
       "      <td>13.84</td>\n",
       "      <td>196.070007</td>\n",
       "      <td>33.779999</td>\n",
       "      <td>242.877640</td>\n",
       "      <td>319.384521</td>\n",
       "    </tr>\n",
       "    <tr>\n",
       "      <th>2020-06-10</th>\n",
       "      <td>37.490002</td>\n",
       "      <td>13.17</td>\n",
       "      <td>191.509995</td>\n",
       "      <td>32.320000</td>\n",
       "      <td>245.792572</td>\n",
       "      <td>317.602356</td>\n",
       "    </tr>\n",
       "    <tr>\n",
       "      <th>2020-06-11</th>\n",
       "      <td>35.049999</td>\n",
       "      <td>12.20</td>\n",
       "      <td>178.020004</td>\n",
       "      <td>30.200001</td>\n",
       "      <td>233.613754</td>\n",
       "      <td>299.292938</td>\n",
       "    </tr>\n",
       "    <tr>\n",
       "      <th>2020-06-12</th>\n",
       "      <td>35.349998</td>\n",
       "      <td>12.67</td>\n",
       "      <td>181.210007</td>\n",
       "      <td>30.580000</td>\n",
       "      <td>235.470520</td>\n",
       "      <td>302.877167</td>\n",
       "    </tr>\n",
       "  </tbody>\n",
       "</table>\n",
       "</div>"
      ],
      "text/plain": [
       "                  BSX    AES       BRK-B        SEE         QQQ         SPY\n",
       "Date                                                                       \n",
       "2020-06-08  39.110001  14.97  201.559998  34.930000  241.130676  321.783966\n",
       "2020-06-09  38.259998  13.84  196.070007  33.779999  242.877640  319.384521\n",
       "2020-06-10  37.490002  13.17  191.509995  32.320000  245.792572  317.602356\n",
       "2020-06-11  35.049999  12.20  178.020004  30.200001  233.613754  299.292938\n",
       "2020-06-12  35.349998  12.67  181.210007  30.580000  235.470520  302.877167"
      ]
     },
     "execution_count": 17,
     "metadata": {},
     "output_type": "execute_result"
    }
   ],
   "source": [
    "# tickers = ['AC.TO','ZSP.TO','XFN.TO','HEU.TO','XIT.TO']\n",
    "tickers = ['BSX','AES','BRK-B','SEE','QQQ','SPY']  # Boston Scientific, Berkshire Hathway, Invesco Trust, S&P Index Fund, AES Corp.,\n",
    "                                                   # and Sealed Air Corp. \n",
    "\n",
    "\n",
    "thelen = len(tickers)\n",
    "\n",
    "price_data = []\n",
    "for ticker in range(thelen):\n",
    "    prices = web.DataReader(tickers[ticker], start='2013-01-01', end = '2020-06-13', data_source='yahoo')\n",
    "    price_data.append(prices.assign(ticker=ticker)[['Adj Close']])\n",
    "\n",
    "df_stocks = pd.concat(price_data, axis=1)\n",
    "df_stocks.columns=tickers\n",
    "df_stocks.tail()\n"
   ]
  },
  {
   "cell_type": "code",
   "execution_count": 18,
   "metadata": {
    "colab": {
     "base_uri": "https://localhost:8080/",
     "height": 123
    },
    "colab_type": "code",
    "id": "P3FYkv7uyN1m",
    "outputId": "b485802c-a58c-44a0-e696-4080d1e58d54"
   },
   "outputs": [
    {
     "name": "stdout",
     "output_type": "stream",
     "text": [
      "BSX      0\n",
      "AES      0\n",
      "BRK-B    0\n",
      "SEE      0\n",
      "QQQ      0\n",
      "SPY      0\n",
      "dtype: int64\n"
     ]
    }
   ],
   "source": [
    "#Checking if any NaN values in the data\n",
    "nullin_df = pd.DataFrame(df_stocks,columns=tickers)\n",
    "print(nullin_df.isnull().sum())"
   ]
  },
  {
   "cell_type": "code",
   "execution_count": 19,
   "metadata": {
    "colab": {},
    "colab_type": "code",
    "id": "V-umfxkEyyrL"
   },
   "outputs": [],
   "source": [
    "#Annluaized Return\n",
    "mu = expected_returns.mean_historical_return(df_stocks) \n",
    "#Sample Variance of Portfolio\n",
    "Sigma = risk_models.sample_cov(df_stocks)"
   ]
  },
  {
   "cell_type": "code",
   "execution_count": 20,
   "metadata": {
    "colab": {
     "base_uri": "https://localhost:8080/",
     "height": 35
    },
    "colab_type": "code",
    "id": "2woDK4yx4wbM",
    "outputId": "82f78e3a-46d1-45a4-be1a-b85279ab774c"
   },
   "outputs": [
    {
     "name": "stdout",
     "output_type": "stream",
     "text": [
      "OrderedDict([('BSX', 0.40074), ('AES', 0.0), ('BRK-B', 0.0), ('SEE', 0.0), ('QQQ', 0.59926), ('SPY', 0.0)])\n"
     ]
    }
   ],
   "source": [
    "#Max Sharpe Ratio - Tangent to the EF\n",
    "ef = EfficientFrontier(mu, Sigma, weight_bounds=(0,1)) #weight bounds in negative allows shorting of stocks\n",
    "sharpe_pfolio=ef.max_sharpe() #May use add objective to ensure minimum zero weighting to individual stocks\n",
    "sharpe_pwt=ef.clean_weights()\n",
    "print(sharpe_pwt)\n"
   ]
  },
  {
   "cell_type": "code",
   "execution_count": 22,
   "metadata": {
    "colab": {
     "base_uri": "https://localhost:8080/",
     "height": 88
    },
    "colab_type": "code",
    "id": "XxbZawpQ5F7Z",
    "outputId": "16f0b8ec-7ba3-4f93-9516-2408a6622095"
   },
   "outputs": [
    {
     "name": "stdout",
     "output_type": "stream",
     "text": [
      "Expected annual return: 23.1%\n",
      "Annual volatility: 20.5%\n",
      "Sharpe Ratio: -0.19\n"
     ]
    },
    {
     "data": {
      "text/plain": [
       "(0.23125335159867638, 0.2052954438820653, -0.18873603655608726)"
      ]
     },
     "execution_count": 22,
     "metadata": {},
     "output_type": "execute_result"
    }
   ],
   "source": [
    "ef.portfolio_performance(verbose=True, risk_free_rate = 0.27)\n",
    "# 2year risk free rate - Treasury Yield "
   ]
  },
  {
   "cell_type": "code",
   "execution_count": 23,
   "metadata": {
    "colab": {
     "base_uri": "https://localhost:8080/",
     "height": 35
    },
    "colab_type": "code",
    "id": "48hUTXnj5bl9",
    "outputId": "26150abe-a831-42b6-a4e5-7575a493d98f"
   },
   "outputs": [
    {
     "name": "stdout",
     "output_type": "stream",
     "text": [
      "OrderedDict([('BSX', 0.0), ('AES', 0.0), ('BRK-B', 0.05411), ('SEE', 0.0205), ('QQQ', 0.0), ('SPY', 0.92539)])\n"
     ]
    }
   ],
   "source": [
    "#Min Volatility Portfolio\n",
    "ef1 = EfficientFrontier(mu, Sigma, weight_bounds=(0,1)) #weight bounds in negative allows shorting of stocks\n",
    "minvol=ef1.min_volatility()\n",
    "minvol_pwt=ef1.clean_weights()\n",
    "print(minvol_pwt)"
   ]
  },
  {
   "cell_type": "code",
   "execution_count": 24,
   "metadata": {
    "colab": {
     "base_uri": "https://localhost:8080/",
     "height": 88
    },
    "colab_type": "code",
    "id": "iRXX-taz5vwj",
    "outputId": "6fc9dd0f-8346-4c9d-d464-abbdbc115c2d"
   },
   "outputs": [
    {
     "name": "stdout",
     "output_type": "stream",
     "text": [
      "Expected annual return: 13.1%\n",
      "Annual volatility: 16.8%\n",
      "Sharpe Ratio: -0.83\n"
     ]
    },
    {
     "data": {
      "text/plain": [
       "(0.1309140861799914, 0.16782492604761676, -0.8287559964754339)"
      ]
     },
     "execution_count": 24,
     "metadata": {},
     "output_type": "execute_result"
    }
   ],
   "source": [
    "ef1.portfolio_performance(verbose=True, risk_free_rate = 0.27)"
   ]
  },
  {
   "cell_type": "code",
   "execution_count": 25,
   "metadata": {
    "colab": {},
    "colab_type": "code",
    "id": "4HGlgUlK9iHB"
   },
   "outputs": [],
   "source": [
    "from pypfopt.cla import CLA\n",
    "from pypfopt import discrete_allocation"
   ]
  },
  {
   "cell_type": "code",
   "execution_count": 26,
   "metadata": {
    "colab": {
     "base_uri": "https://localhost:8080/",
     "height": 297
    },
    "colab_type": "code",
    "id": "egnkULJ06p7K",
    "outputId": "50a927b4-fa2a-4b13-9786-9358c3b028d9"
   },
   "outputs": [
    {
     "data": {
      "image/png": "[encoded data removed]",
      "text/plain": [
       "<Figure size 432x288 with 1 Axes>"
      ]
     },
     "metadata": {
      "needs_background": "light"
     },
     "output_type": "display_data"
    }
   ],
   "source": [
    "cl_obj = CLA(mu, Sigma)\n",
    "ax = pplt.plot_efficient_frontier(cl_obj, showfig = False)\n",
    "ax.xaxis.set_major_formatter(FuncFormatter(lambda x, _: '{:.0%}'.format(x)))\n",
    "ax.yaxis.set_major_formatter(FuncFormatter(lambda y, _: '{:.0%}'.format(y)))"
   ]
  },
  {
   "cell_type": "code",
   "execution_count": 27,
   "metadata": {
    "colab": {
     "base_uri": "https://localhost:8080/",
     "height": 70
    },
    "colab_type": "code",
    "id": "9wYfKhXx_p7V",
    "outputId": "ccf062e4-54c0-4dd2-c86f-e9afb1658c97"
   },
   "outputs": [
    {
     "name": "stdout",
     "output_type": "stream",
     "text": [
      "{'BRK-B': 3.0, 'SEE': 2.0, 'SPY': 31.0}\n",
      "Leftover Fund value in$ after building minimum volatility portfolio is $6.02\n",
      "\n"
     ]
    }
   ],
   "source": [
    "latest_prices = discrete_allocation.get_latest_prices(df_stocks)\n",
    "# Allocate Portfolio Value in $ as required to show number of shares/stocks to buy, also bounds for shorting will affect allocation\n",
    "#Min Volatility Portfolio Allocation $10000\n",
    "allocation_minv, rem_minv = discrete_allocation.DiscreteAllocation(minvol_pwt, latest_prices, total_portfolio_value=10000).lp_portfolio() \n",
    "print(allocation_minv)\n",
    "print(\"Leftover Fund value in$ after building minimum volatility portfolio is ${:.2f}\".format(rem_minv))\n",
    "print()\n"
   ]
  },
  {
   "cell_type": "code",
   "execution_count": 28,
   "metadata": {
    "colab": {
     "base_uri": "https://localhost:8080/",
     "height": 52
    },
    "colab_type": "code",
    "id": "M6jrx7gEKs07",
    "outputId": "bf9412e5-b71f-47e1-9874-00ce842ae52d"
   },
   "outputs": [
    {
     "name": "stdout",
     "output_type": "stream",
     "text": [
      "{'BSX': 8.0, 'QQQ': 3.0}\n",
      "Leftover Fund value in$ after building Max Sharpe ratio portfolio is $10.79\n"
     ]
    }
   ],
   "source": [
    "#Max Sharpe Ratio Portfolio Allocation $10000\n",
    "latest_prices1 = discrete_allocation.get_latest_prices(df_stocks)\n",
    "allocation_shp, rem_shp = discrete_allocation.DiscreteAllocation(sharpe_pwt, latest_prices1, total_portfolio_value=1000).lp_portfolio() \n",
    "print(allocation_shp)\n",
    "print(\"Leftover Fund value in$ after building Max Sharpe ratio portfolio is ${:.2f}\".format(rem_shp))\n",
    "\n",
    "#allocation using integer programming via PyPortfolioOpt User Guide\n",
    "#Alex Putkov code used for guidance and reference in applying integer programming"
   ]
  },
  {
   "cell_type": "markdown",
   "metadata": {},
   "source": [
    "### Reference:\n",
    "    \n",
    "    https://towardsdatascience.com/automating-portfolio-optimization-using-python-9f344b9380b9"
   ]
  }
 ],
 "metadata": {
  "colab": {
   "collapsed_sections": [],
   "name": "Efficient Frontier Portfolio Optimizer",
   "provenance": []
  },
  "kernelspec": {
   "display_name": "Python 3",
   "language": "python",
   "name": "python3"
  },
  "language_info": {
   "codemirror_mode": {
    "name": "ipython",
    "version": 3
   },
   "file_extension": ".py",
   "mimetype": "text/x-python",
   "name": "python",
   "nbconvert_exporter": "python",
   "pygments_lexer": "ipython3",
   "version": "3.6.9"
  }
 },
 "nbformat": 4,
 "nbformat_minor": 1
}
