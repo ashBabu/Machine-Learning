{
  "nbformat": 4,
  "nbformat_minor": 0,
  "metadata": {
    "colab": {
      "name": "Efficient Frontier Portfolio Optimizer",
      "provenance": [],
      "collapsed_sections": []
    },
    "kernelspec": {
      "name": "python3",
      "display_name": "Python 3"
    }
  },
  "cells": [
    {
      "cell_type": "code",
      "metadata": {
        "id": "43hoPhIJg3Z4",
        "colab_type": "code",
        "outputId": "18419a34-9cc2-4510-a6a5-63ab182c0da1",
        "colab": {
          "base_uri": "https://localhost:8080/",
          "height": 72
        }
      },
      "source": [
        "#Importing all required libraries\n",
        "#Created by Sanket Karve\n",
        "import matplotlib.pyplot as plt\n",
        "import numpy as np\n",
        "import pandas as pd\n",
        "import pandas_datareader as web\n",
        "from matplotlib.ticker import FuncFormatter"
      ],
      "execution_count": 1,
      "outputs": [
        {
          "output_type": "stream",
          "text": [
            "/usr/local/lib/python3.6/dist-packages/pandas_datareader/compat/__init__.py:7: FutureWarning: pandas.util.testing is deprecated. Use the functions in the public API at pandas.testing instead.\n",
            "  from pandas.util.testing import assert_frame_equal\n"
          ],
          "name": "stderr"
        }
      ]
    },
    {
      "cell_type": "code",
      "metadata": {
        "id": "-gH7NCwUi6Do",
        "colab_type": "code",
        "outputId": "cae38a33-3f8a-4371-d7f6-3d05deb3b452",
        "colab": {
          "base_uri": "https://localhost:8080/",
          "height": 356
        }
      },
      "source": [
        "!pip install PyPortfolioOpt\n",
        "#Installing the Portfolio Optimzation Library"
      ],
      "execution_count": 2,
      "outputs": [
        {
          "output_type": "stream",
          "text": [
            "Collecting PyPortfolioOpt\n",
            "\u001b[?25l  Downloading https://files.pythonhosted.org/packages/8f/f5/4571e069d4870ede26995e191f2ef341329f881d7086cebea504141c79a8/PyPortfolioOpt-1.2.3-py3-none-any.whl (48kB)\n",
            "\r\u001b[K     |██████▉                         | 10kB 18.3MB/s eta 0:00:01\r\u001b[K     |█████████████▋                  | 20kB 1.7MB/s eta 0:00:01\r\u001b[K     |████████████████████▍           | 30kB 2.3MB/s eta 0:00:01\r\u001b[K     |███████████████████████████▏    | 40kB 2.5MB/s eta 0:00:01\r\u001b[K     |████████████████████████████████| 51kB 1.6MB/s \n",
            "\u001b[?25hRequirement already satisfied: numpy<2.0,>=1.12 in /usr/local/lib/python3.6/dist-packages (from PyPortfolioOpt) (1.18.5)\n",
            "Requirement already satisfied: cvxpy<1.1,>=1.0 in /usr/local/lib/python3.6/dist-packages (from PyPortfolioOpt) (1.0.31)\n",
            "Requirement already satisfied: pandas>=0.19 in /usr/local/lib/python3.6/dist-packages (from PyPortfolioOpt) (1.0.4)\n",
            "Requirement already satisfied: scipy<2.0,>=1.3 in /usr/local/lib/python3.6/dist-packages (from PyPortfolioOpt) (1.4.1)\n",
            "Requirement already satisfied: osqp>=0.4.1 in /usr/local/lib/python3.6/dist-packages (from cvxpy<1.1,>=1.0->PyPortfolioOpt) (0.6.1)\n",
            "Requirement already satisfied: multiprocess in /usr/local/lib/python3.6/dist-packages (from cvxpy<1.1,>=1.0->PyPortfolioOpt) (0.70.9)\n",
            "Requirement already satisfied: scs>=1.1.3 in /usr/local/lib/python3.6/dist-packages (from cvxpy<1.1,>=1.0->PyPortfolioOpt) (2.1.2)\n",
            "Requirement already satisfied: ecos>=2 in /usr/local/lib/python3.6/dist-packages (from cvxpy<1.1,>=1.0->PyPortfolioOpt) (2.0.7.post1)\n",
            "Requirement already satisfied: python-dateutil>=2.6.1 in /usr/local/lib/python3.6/dist-packages (from pandas>=0.19->PyPortfolioOpt) (2.8.1)\n",
            "Requirement already satisfied: pytz>=2017.2 in /usr/local/lib/python3.6/dist-packages (from pandas>=0.19->PyPortfolioOpt) (2018.9)\n",
            "Requirement already satisfied: future in /usr/local/lib/python3.6/dist-packages (from osqp>=0.4.1->cvxpy<1.1,>=1.0->PyPortfolioOpt) (0.16.0)\n",
            "Requirement already satisfied: dill>=0.3.1 in /usr/local/lib/python3.6/dist-packages (from multiprocess->cvxpy<1.1,>=1.0->PyPortfolioOpt) (0.3.1.1)\n",
            "Requirement already satisfied: six>=1.5 in /usr/local/lib/python3.6/dist-packages (from python-dateutil>=2.6.1->pandas>=0.19->PyPortfolioOpt) (1.12.0)\n",
            "Installing collected packages: PyPortfolioOpt\n",
            "Successfully installed PyPortfolioOpt-1.2.3\n"
          ],
          "name": "stdout"
        }
      ]
    },
    {
      "cell_type": "code",
      "metadata": {
        "id": "yJ3EWvBxk0su",
        "colab_type": "code",
        "colab": {}
      },
      "source": [
        "from pypfopt.efficient_frontier import EfficientFrontier \n",
        "from pypfopt import risk_models \n",
        "from pypfopt import expected_returns\n",
        "from pypfopt.cla import CLA\n",
        "import pypfopt.plotting as pplt\n",
        "from matplotlib.ticker import FuncFormatter"
      ],
      "execution_count": 0,
      "outputs": []
    },
    {
      "cell_type": "code",
      "metadata": {
        "id": "l0HjTuUsk4Bm",
        "colab_type": "code",
        "outputId": "89a6a8b7-2f39-4089-d4b9-a787e4568713",
        "colab": {
          "base_uri": "https://localhost:8080/",
          "height": 237
        }
      },
      "source": [
        "tickers = ['AC.TO','ZSP.TO','XFN.TO','HEU.TO','XIT.TO']\n",
        "\n",
        "thelen = len(tickers)\n",
        "\n",
        "price_data = []\n",
        "for ticker in range(thelen):\n",
        "    prices = web.DataReader(tickers[ticker], start='2013-01-01', end = '2020-06-13', data_source='yahoo')\n",
        "    price_data.append(prices.assign(ticker=ticker)[['Adj Close']])\n",
        "\n",
        "df_stocks = pd.concat(price_data, axis=1)\n",
        "df_stocks.columns=tickers\n",
        "df_stocks.tail()\n"
      ],
      "execution_count": 4,
      "outputs": [
        {
          "output_type": "execute_result",
          "data": {
            "text/html": [
              "<div>\n",
              "<style scoped>\n",
              "    .dataframe tbody tr th:only-of-type {\n",
              "        vertical-align: middle;\n",
              "    }\n",
              "\n",
              "    .dataframe tbody tr th {\n",
              "        vertical-align: top;\n",
              "    }\n",
              "\n",
              "    .dataframe thead th {\n",
              "        text-align: right;\n",
              "    }\n",
              "</style>\n",
              "<table border=\"1\" class=\"dataframe\">\n",
              "  <thead>\n",
              "    <tr style=\"text-align: right;\">\n",
              "      <th></th>\n",
              "      <th>AC.TO</th>\n",
              "      <th>ZSP.TO</th>\n",
              "      <th>XFN.TO</th>\n",
              "      <th>HEU.TO</th>\n",
              "      <th>XIT.TO</th>\n",
              "    </tr>\n",
              "    <tr>\n",
              "      <th>Date</th>\n",
              "      <th></th>\n",
              "      <th></th>\n",
              "      <th></th>\n",
              "      <th></th>\n",
              "      <th></th>\n",
              "    </tr>\n",
              "  </thead>\n",
              "  <tbody>\n",
              "    <tr>\n",
              "      <th>2020-06-08</th>\n",
              "      <td>23.389999</td>\n",
              "      <td>47.570000</td>\n",
              "      <td>34.950001</td>\n",
              "      <td>29.490000</td>\n",
              "      <td>36.759998</td>\n",
              "    </tr>\n",
              "    <tr>\n",
              "      <th>2020-06-09</th>\n",
              "      <td>21.010000</td>\n",
              "      <td>47.410000</td>\n",
              "      <td>34.599998</td>\n",
              "      <td>27.340000</td>\n",
              "      <td>36.799999</td>\n",
              "    </tr>\n",
              "    <tr>\n",
              "      <th>2020-06-10</th>\n",
              "      <td>19.510000</td>\n",
              "      <td>47.099998</td>\n",
              "      <td>34.000000</td>\n",
              "      <td>25.170000</td>\n",
              "      <td>37.070000</td>\n",
              "    </tr>\n",
              "    <tr>\n",
              "      <th>2020-06-11</th>\n",
              "      <td>17.850000</td>\n",
              "      <td>45.130001</td>\n",
              "      <td>32.459999</td>\n",
              "      <td>20.400000</td>\n",
              "      <td>36.060001</td>\n",
              "    </tr>\n",
              "    <tr>\n",
              "      <th>2020-06-12</th>\n",
              "      <td>19.400000</td>\n",
              "      <td>45.580002</td>\n",
              "      <td>33.080002</td>\n",
              "      <td>21.059999</td>\n",
              "      <td>36.529999</td>\n",
              "    </tr>\n",
              "  </tbody>\n",
              "</table>\n",
              "</div>"
            ],
            "text/plain": [
              "                AC.TO     ZSP.TO     XFN.TO     HEU.TO     XIT.TO\n",
              "Date                                                             \n",
              "2020-06-08  23.389999  47.570000  34.950001  29.490000  36.759998\n",
              "2020-06-09  21.010000  47.410000  34.599998  27.340000  36.799999\n",
              "2020-06-10  19.510000  47.099998  34.000000  25.170000  37.070000\n",
              "2020-06-11  17.850000  45.130001  32.459999  20.400000  36.060001\n",
              "2020-06-12  19.400000  45.580002  33.080002  21.059999  36.529999"
            ]
          },
          "metadata": {
            "tags": []
          },
          "execution_count": 4
        }
      ]
    },
    {
      "cell_type": "code",
      "metadata": {
        "id": "P3FYkv7uyN1m",
        "colab_type": "code",
        "outputId": "b485802c-a58c-44a0-e696-4080d1e58d54",
        "colab": {
          "base_uri": "https://localhost:8080/",
          "height": 123
        }
      },
      "source": [
        "#Checking if any NaN values in the data\n",
        "nullin_df = pd.DataFrame(df_stocks,columns=tickers)\n",
        "print(nullin_df.isnull().sum())"
      ],
      "execution_count": 5,
      "outputs": [
        {
          "output_type": "stream",
          "text": [
            "AC.TO     0\n",
            "ZSP.TO    0\n",
            "XFN.TO    0\n",
            "HEU.TO    0\n",
            "XIT.TO    0\n",
            "dtype: int64\n"
          ],
          "name": "stdout"
        }
      ]
    },
    {
      "cell_type": "code",
      "metadata": {
        "id": "V-umfxkEyyrL",
        "colab_type": "code",
        "colab": {}
      },
      "source": [
        "#Annluaized Return\n",
        "mu = expected_returns.mean_historical_return(df_stocks) \n",
        "#Sample Variance of Portfolio\n",
        "Sigma = risk_models.sample_cov(df_stocks)"
      ],
      "execution_count": 0,
      "outputs": []
    },
    {
      "cell_type": "code",
      "metadata": {
        "id": "2woDK4yx4wbM",
        "colab_type": "code",
        "outputId": "82f78e3a-46d1-45a4-be1a-b85279ab774c",
        "colab": {
          "base_uri": "https://localhost:8080/",
          "height": 35
        }
      },
      "source": [
        "#Max Sharpe Ratio - Tangent to the EF\n",
        "ef = EfficientFrontier(mu, Sigma, weight_bounds=(0,1)) #weight bounds in negative allows shorting of stocks\n",
        "sharpe_pfolio=ef.max_sharpe() #May use add objective to ensure minimum zero weighting to individual stocks\n",
        "sharpe_pwt=ef.clean_weights()\n",
        "print(sharpe_pwt)\n"
      ],
      "execution_count": 8,
      "outputs": [
        {
          "output_type": "stream",
          "text": [
            "OrderedDict([('AC.TO', 0.17255), ('ZSP.TO', 0.21627), ('XFN.TO', 0.0), ('HEU.TO', 0.0), ('XIT.TO', 0.61118)])\n"
          ],
          "name": "stdout"
        }
      ]
    },
    {
      "cell_type": "code",
      "metadata": {
        "id": "XxbZawpQ5F7Z",
        "colab_type": "code",
        "outputId": "16f0b8ec-7ba3-4f93-9516-2408a6622095",
        "colab": {
          "base_uri": "https://localhost:8080/",
          "height": 88
        }
      },
      "source": [
        "ef.portfolio_performance(verbose=True, risk_free_rate = 0.27)\n",
        "# 2year risk free rate - Treasury Yield "
      ],
      "execution_count": 9,
      "outputs": [
        {
          "output_type": "stream",
          "text": [
            "Expected annual return: 27.4%\n",
            "Annual volatility: 19.6%\n",
            "Sharpe Ratio: 0.02\n"
          ],
          "name": "stdout"
        },
        {
          "output_type": "execute_result",
          "data": {
            "text/plain": [
              "(0.2739192634494637, 0.19627602636892613, 0.01996812102817352)"
            ]
          },
          "metadata": {
            "tags": []
          },
          "execution_count": 9
        }
      ]
    },
    {
      "cell_type": "code",
      "metadata": {
        "id": "48hUTXnj5bl9",
        "colab_type": "code",
        "outputId": "26150abe-a831-42b6-a4e5-7575a493d98f",
        "colab": {
          "base_uri": "https://localhost:8080/",
          "height": 35
        }
      },
      "source": [
        "#Min Volatility Portfolio\n",
        "ef1 = EfficientFrontier(mu, Sigma, weight_bounds=(0,1)) #weight bounds in negative allows shorting of stocks\n",
        "minvol=ef1.min_volatility()\n",
        "minvol_pwt=ef1.clean_weights()\n",
        "print(minvol_pwt)"
      ],
      "execution_count": 10,
      "outputs": [
        {
          "output_type": "stream",
          "text": [
            "OrderedDict([('AC.TO', 0.0), ('ZSP.TO', 0.50243), ('XFN.TO', 0.38576), ('HEU.TO', 0.0), ('XIT.TO', 0.1118)])\n"
          ],
          "name": "stdout"
        }
      ]
    },
    {
      "cell_type": "code",
      "metadata": {
        "id": "iRXX-taz5vwj",
        "colab_type": "code",
        "outputId": "6fc9dd0f-8346-4c9d-d464-abbdbc115c2d",
        "colab": {
          "base_uri": "https://localhost:8080/",
          "height": 88
        }
      },
      "source": [
        "ef1.portfolio_performance(verbose=True, risk_free_rate = 0.27)"
      ],
      "execution_count": 11,
      "outputs": [
        {
          "output_type": "stream",
          "text": [
            "Expected annual return: 15.0%\n",
            "Annual volatility: 15.1%\n",
            "Sharpe Ratio: -0.79\n"
          ],
          "name": "stdout"
        },
        {
          "output_type": "execute_result",
          "data": {
            "text/plain": [
              "(0.15033765628138043, 0.15123661053722431, -0.7912260351085212)"
            ]
          },
          "metadata": {
            "tags": []
          },
          "execution_count": 11
        }
      ]
    },
    {
      "cell_type": "code",
      "metadata": {
        "id": "4HGlgUlK9iHB",
        "colab_type": "code",
        "colab": {}
      },
      "source": [
        "from pypfopt.cla import CLA\n",
        "from pypfopt import discrete_allocation"
      ],
      "execution_count": 0,
      "outputs": []
    },
    {
      "cell_type": "code",
      "metadata": {
        "id": "egnkULJ06p7K",
        "colab_type": "code",
        "outputId": "50a927b4-fa2a-4b13-9786-9358c3b028d9",
        "colab": {
          "base_uri": "https://localhost:8080/",
          "height": 297
        }
      },
      "source": [
        "cl_obj = CLA(mu, Sigma)\n",
        "ax = pplt.plot_efficient_frontier(cl_obj, showfig = False)\n",
        "ax.xaxis.set_major_formatter(FuncFormatter(lambda x, _: '{:.0%}'.format(x)))\n",
        "ax.yaxis.set_major_formatter(FuncFormatter(lambda y, _: '{:.0%}'.format(y)))"
      ],
      "execution_count": 13,
      "outputs": [
        {
          "output_type": "display_data",
          "data": {
            "image/png": "[encoded data removed]",
            "text/plain": [
              "<Figure size 432x288 with 1 Axes>"
            ]
          },
          "metadata": {
            "tags": [],
            "needs_background": "light"
          }
        }
      ]
    },
    {
      "cell_type": "code",
      "metadata": {
        "id": "9wYfKhXx_p7V",
        "colab_type": "code",
        "outputId": "ccf062e4-54c0-4dd2-c86f-e9afb1658c97",
        "colab": {
          "base_uri": "https://localhost:8080/",
          "height": 70
        }
      },
      "source": [
        "latest_prices = discrete_allocation.get_latest_prices(df_stocks)\n",
        "# Allocate Portfolio Value in $ as required to show number of shares/stocks to buy, also bounds for shorting will affect allocation\n",
        "#Min Volatility Portfolio Allocation $10000\n",
        "allocation_minv, rem_minv = discrete_allocation.DiscreteAllocation(minvol_pwt, latest_prices, total_portfolio_value=10000).lp_portfolio() \n",
        "print(allocation_minv)\n",
        "print(\"Leftover Fund value in$ after building minimum volatility portfolio is ${:.2f}\".format(rem_minv))\n",
        "print()\n"
      ],
      "execution_count": 14,
      "outputs": [
        {
          "output_type": "stream",
          "text": [
            "{'ZSP.TO': 110.0, 'XFN.TO': 116.0, 'XIT.TO': 31.0}\n",
            "Leftover Fund value in$ after building minimum volatility portfolio is $16.49\n",
            "\n"
          ],
          "name": "stdout"
        }
      ]
    },
    {
      "cell_type": "code",
      "metadata": {
        "id": "M6jrx7gEKs07",
        "colab_type": "code",
        "outputId": "bf9412e5-b71f-47e1-9874-00ce842ae52d",
        "colab": {
          "base_uri": "https://localhost:8080/",
          "height": 52
        }
      },
      "source": [
        "#Max Sharpe Ratio Portfolio Allocation $10000\n",
        "latest_prices1 = discrete_allocation.get_latest_prices(df_stocks)\n",
        "allocation_shp, rem_shp = discrete_allocation.DiscreteAllocation(sharpe_pwt, latest_prices1, total_portfolio_value=1000).lp_portfolio() \n",
        "print(allocation_shp)\n",
        "print(\"Leftover Fund value in$ after building Max Sharpe ratio portfolio is ${:.2f}\".format(rem_shp))\n",
        "\n",
        "#allocation using integer programming via PyPortfolioOpt User Guide\n",
        "#Alex Putkov code used for guidance and reference in applying integer programming"
      ],
      "execution_count": 15,
      "outputs": [
        {
          "output_type": "stream",
          "text": [
            "{'AC.TO': 9.0, 'ZSP.TO': 5.0, 'XIT.TO': 16.0}\n",
            "Leftover Fund value in$ after building Max Sharpe ratio portfolio is $13.02\n"
          ],
          "name": "stdout"
        }
      ]
    }
  ]
}