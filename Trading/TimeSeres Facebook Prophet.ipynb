{
 "cells": [
  {
   "cell_type": "markdown",
   "metadata": {},
   "source": [
    "### Time-Series Forecasting: Predicting Stock Prices Using Facebook’s Prophet Library"
   ]
  },
  {
   "cell_type": "markdown",
   "metadata": {},
   "source": [
    "This is an introductory tutorial on time-series forecasting using Facebook's prophet library.  \n",
    "\n",
    "**Disclaimer:** I will not be responsible for your financial loss if you blindly follow these. It is upto you to do your own research and invest carefully\n",
    "\n",
    "**Shift + Enter** to run a cell block\n",
    "*"
   ]
  },
  {
   "cell_type": "code",
   "execution_count": null,
   "metadata": {},
   "outputs": [],
   "source": [
    "import numpy as np  # For all kinds of mathematical operations\n",
    "import pandas as pd\n",
    "import matplotlib.pyplot as plt  # For plotting"
   ]
  },
  {
   "cell_type": "markdown",
   "metadata": {},
   "source": [
    "<a href=\"https://github.com/facebook/prophet\" style=\"color:blue;font-size:18px;\" ><strong>Facebook's prophet Library in Github </strong></a>\n",
    "\n",
    "**Installation**\n",
    "\n",
    "```\n",
    "pip install pystan\n",
    "\n",
    "pip install fbprophet\n",
    "```"
   ]
  },
  {
   "cell_type": "code",
   "execution_count": null,
   "metadata": {},
   "outputs": [],
   "source": [
    "from fbprophet import Prophet  # library for forcasting"
   ]
  },
  {
   "cell_type": "markdown",
   "metadata": {},
   "source": [
    "Go to [Yahoo Finance](https://finance.yahoo.com/). Search for the company you want to track. Go to *Historical Data* and download the required period data\n",
    "\n",
    "![](images/yahoofinance.png)"
   ]
  },
  {
   "cell_type": "code",
   "execution_count": null,
   "metadata": {},
   "outputs": [],
   "source": [
    "data = pd.read_csv('csvs/GOOG.csv')\n",
    "data.tail(10)"
   ]
  },
  {
   "cell_type": "markdown",
   "metadata": {},
   "source": [
    "Print some statistics such as the mean, median, min, max and standard\n",
    "deviation values for the above features (columns). \n",
    "\n",
    "Search in [Investopedia](https://www.investopedia.com/terms/a/adjusted_closing_price.asp) for definitions"
   ]
  },
  {
   "cell_type": "code",
   "execution_count": null,
   "metadata": {},
   "outputs": [],
   "source": [
    "data.describe()"
   ]
  },
  {
   "cell_type": "code",
   "execution_count": null,
   "metadata": {},
   "outputs": [],
   "source": [
    "# Select only the important features i.e. the date and price\n",
    "data_pred = data[[\"Date\",\"Close\"]] # select Date and Price\n",
    "\n",
    "# Rename the features: These names are NEEDED for the model fitting\n",
    "data_pred = data_pred.rename(columns = {\"Date\":\"ds\",\"Close\":\"y\"})"
   ]
  },
  {
   "cell_type": "markdown",
   "metadata": {},
   "source": [
    "In this tutorial, we will not split the data into training and test sets but instead we will use all the data to fit the model and then ask the model to predict future values i.e. the stock price in 2021.\n",
    "\n",
    "\n",
    "Usually people split the data into training and testing because they do not want to train the model on the test set as well. If we keep a test set hidden, then the model will forecast values on unseen data. In that case, we would be also able to measure the error of the model."
   ]
  },
  {
   "cell_type": "code",
   "execution_count": null,
   "metadata": {},
   "outputs": [],
   "source": [
    "model = Prophet(daily_seasonality =True)\n",
    "model.fit(data_pred)"
   ]
  },
  {
   "cell_type": "code",
   "execution_count": null,
   "metadata": {},
   "outputs": [],
   "source": [
    "future = model.make_future_dataframe(periods=365) #we need to specify the number of days in future\n",
    "prediction = model.predict(future)\n",
    "model.plot(prediction)\n",
    "plt.title(\"Prediction of the Google Stock Price using the Prophet\")\n",
    "plt.xlabel(\"Date\")\n",
    "plt.ylabel(\"Close Stock Price\")\n",
    "plt.show()"
   ]
  },
  {
   "cell_type": "code",
   "execution_count": null,
   "metadata": {},
   "outputs": [],
   "source": [
    "model.plot_components(prediction)\n",
    "plt.show()"
   ]
  },
  {
   "cell_type": "markdown",
   "metadata": {},
   "source": [
    "### Other resources\n",
    "\n",
    "* [Weather Forecasting](https://github.com/ashBabu/Machine-Learning/blob/master/Weather%20Forecasting%20Time%20Series%20Forcasting%20LSTM%20(RNN).ipynb)"
   ]
  },
  {
   "cell_type": "markdown",
   "metadata": {},
   "source": [
    "### References\n",
    "\n",
    "* [Towards Data Science](https://towardsdatascience.com/time-series-forecasting-predicting-stock-prices-using-facebooks-prophet-model-9ee1657132b5 \n",
    ")\n",
    "\n",
    "* https://github.com/facebook/prophet"
   ]
  },
  {
   "cell_type": "code",
   "execution_count": null,
   "metadata": {},
   "outputs": [],
   "source": []
  }
 ],
 "metadata": {
  "kernelspec": {
   "display_name": "venvTF2",
   "language": "python",
   "name": "venvtf2"
  },
  "language_info": {
   "codemirror_mode": {
    "name": "ipython",
    "version": 3
   },
   "file_extension": ".py",
   "mimetype": "text/x-python",
   "name": "python",
   "nbconvert_exporter": "python",
   "pygments_lexer": "ipython3",
   "version": "3.6.9"
  }
 },
 "nbformat": 4,
 "nbformat_minor": 2
}
