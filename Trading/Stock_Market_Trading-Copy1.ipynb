{
 "cells": [
  {
   "cell_type": "code",
   "execution_count": 1,
   "metadata": {},
   "outputs": [],
   "source": [
    "import pandas as pd\n",
    "import numpy as np\n",
    "import matplotlib.pyplot as plt\n",
    "import os"
   ]
  },
  {
   "cell_type": "code",
   "execution_count": 14,
   "metadata": {},
   "outputs": [],
   "source": [
    "class Utilities:\n",
    "    def __init__(self, df=None):\n",
    "        self.df = df\n",
    "    \n",
    "    def get_mean_volume(self, symbol):\n",
    "        \"\"\"Return the mean volume for stock indicated by symbol.\"\"\"\n",
    "        # return df['Volume'].max()\n",
    "        return self.df['Volume'].mean() \n",
    "\n",
    "    def symbol_to_path(self, symbol, base_dir=\"csvs\"):\n",
    "        \"\"\"Return CSV file path given ticker symbol, for example IBM. The return will be \n",
    "        'path_to_dir/data/IBM.csv' \"\"\"\n",
    "        return os.path.join(base_dir, \"{}.csv\".format(str(symbol)))\n",
    "\n",
    "    def get_data(self, symbols, dates):\n",
    "        \"\"\"Read stock data (adjusted close) for given symbols from CSV files.\"\"\"\n",
    "        df = pd.DataFrame(index=dates)\n",
    "        if 'SPY' not in symbols:  # add SPY for reference, if absent\n",
    "            symbols.insert(0, 'SPY')\n",
    "#         print(df.head())\n",
    "        for symbol in symbols:\n",
    "            # TODO: Read and join data for each symbol\n",
    "            path = self.symbol_to_path(symbol)\n",
    "            df_temp = pd.read_csv(path, index_col='Date', \n",
    "                                  parse_dates=True, usecols=['Date', 'Close'],\n",
    "                                 na_values=['nan'])\n",
    "            df_temp = df_temp.rename(columns={'Close':symbol})\n",
    "            df = df.join(df_temp)\n",
    "            if symbol == 'SPY': # drop dates when SPY did not trade\n",
    "                df = df.dropna(subset=[\"SPY\"])\n",
    "        return df\n",
    "    \n",
    "    def plot_data(self, df, title=\"Stock prices\"):\n",
    "        \"\"\"Plot stock prices with a custom title and meaningful axis labels.\"\"\"\n",
    "        ax = df.plot(title=title, fontsize=12)\n",
    "        ax.set_xlabel(\"Date\")\n",
    "        ax.set_ylabel(\"Price\")\n",
    "        plt.show()\n",
    "    \n",
    "    def plot_selected(self, df, columns, start_index, end_index):\n",
    "        \"\"\"Plot the desired columns over index values in the given range.\"\"\"\n",
    "        # TODO: Your code here\n",
    "        data = df.loc[start_index:end_index, columns]\n",
    "        plot_data(data)\n",
    "\n",
    "    def normalize(self, df):\n",
    "        return df/df.loc[0, :]\n",
    "\n",
    "    def statistics(self, df):\n",
    "        mean = df.mean()\n",
    "        std_dev = df.std()\n",
    "        median = df.median()\n",
    "        return mean, std_dev, median\n",
    "    \n",
    "    def fill_missing_values(self, df_data):\n",
    "        \"\"\"Fill missing values in data frame, in place.\"\"\"\n",
    "        df_data.fillna(method='ffill', inplace=True)\n",
    "        df_data.fillna(method='bfill', inplace=True)\n",
    "        \n",
    "    def compute_daily_returns(self, df):\n",
    "        daily_returns = df.copy()\n",
    "        \"\"\"Using Numpy\"\"\"\n",
    "#         Ndaily_returns = df.copy()\n",
    "#         Ndaily_returns = (df[1:]/df[:-1].values) - 1\n",
    "#         Ndaily_returns.loc[0, :] = 0  # set daily returns of row 0 to 0\n",
    "\n",
    "        \"\"\"Using pandas\"\"\"\n",
    "        daily_returns = (df/df.shift(1)) - 1        \n",
    "        if daily_returns.ndim == 1:\n",
    "            daily_returns[0] = 0\n",
    "        else:\n",
    "            daily_returns.iloc[0, :] = 0  # set daily returns of row 0 to 0\n",
    "        return daily_returns\n",
    "\n",
    "    def cumulative_returns(self, df, time_point):\n",
    "        cum_returns = (df[time_point, :]/df[0, :]) - 1\n",
    "        cum_returns.loc[0, :] = 0  # set daily returns of row 0 to 0\n",
    "        return cum_returns\n",
    "    \n",
    "    def momentum(self, currentPrice, prevPrice):\n",
    "        return currentPrice/prevPrice - 1\n",
    "    \n",
    "    def correlation(self, Y1, Y2):\n",
    "        return np.correlation(Y1, Y2)\n",
    "    "
   ]
  },
  {
   "cell_type": "code",
   "execution_count": 15,
   "metadata": {},
   "outputs": [],
   "source": [
    "class BollingerBands:\n",
    "    def __init__(self, df=None):\n",
    "        self.df = df\n",
    "        \n",
    "    def get_rolling_mean(self, values, window):\n",
    "        \"\"\"Return rolling mean of given values, using specified window size.\"\"\"\n",
    "        return values.rolling(center=False, window=window).mean()\n",
    "\n",
    "    def get_rolling_std(self, values, window):\n",
    "        \"\"\"Return rolling standard deviation of given values, using specified window size.\"\"\"\n",
    "        return values.rolling(center=False, window=window).std()\n",
    "\n",
    "    def get_bollinger_bands(self, rm, rstd):\n",
    "        \"\"\"Return upper and lower Bollinger Bands.\"\"\"\n",
    "        upper_band = rm + 2*rstd\n",
    "        lower_band = rm - 2*rstd\n",
    "        return upper_band, lower_band"
   ]
  },
  {
   "cell_type": "code",
   "execution_count": 16,
   "metadata": {
    "scrolled": true
   },
   "outputs": [
    {
     "data": {
      "text/html": [
       "<div>\n",
       "<style scoped>\n",
       "    .dataframe tbody tr th:only-of-type {\n",
       "        vertical-align: middle;\n",
       "    }\n",
       "\n",
       "    .dataframe tbody tr th {\n",
       "        vertical-align: top;\n",
       "    }\n",
       "\n",
       "    .dataframe thead th {\n",
       "        text-align: right;\n",
       "    }\n",
       "</style>\n",
       "<table border=\"1\" class=\"dataframe\">\n",
       "  <thead>\n",
       "    <tr style=\"text-align: right;\">\n",
       "      <th></th>\n",
       "      <th>SPY</th>\n",
       "      <th>NIFTY</th>\n",
       "      <th>BANKNIFTY_1</th>\n",
       "      <th>ETH-USD</th>\n",
       "    </tr>\n",
       "  </thead>\n",
       "  <tbody>\n",
       "    <tr>\n",
       "      <th>2016-01-04</th>\n",
       "      <td>201.020004</td>\n",
       "      <td>7791.299805</td>\n",
       "      <td>16599.15</td>\n",
       "      <td>0.954480</td>\n",
       "    </tr>\n",
       "    <tr>\n",
       "      <th>2016-01-05</th>\n",
       "      <td>201.360001</td>\n",
       "      <td>7784.649902</td>\n",
       "      <td>16542.50</td>\n",
       "      <td>0.950176</td>\n",
       "    </tr>\n",
       "    <tr>\n",
       "      <th>2016-01-06</th>\n",
       "      <td>198.820007</td>\n",
       "      <td>7741.000000</td>\n",
       "      <td>16433.15</td>\n",
       "      <td>0.950860</td>\n",
       "    </tr>\n",
       "    <tr>\n",
       "      <th>2016-01-07</th>\n",
       "      <td>194.050003</td>\n",
       "      <td>7568.299805</td>\n",
       "      <td>16073.85</td>\n",
       "      <td>0.942005</td>\n",
       "    </tr>\n",
       "    <tr>\n",
       "      <th>2016-01-08</th>\n",
       "      <td>191.919998</td>\n",
       "      <td>7601.350098</td>\n",
       "      <td>16142.65</td>\n",
       "      <td>0.986789</td>\n",
       "    </tr>\n",
       "  </tbody>\n",
       "</table>\n",
       "</div>"
      ],
      "text/plain": [
       "                   SPY        NIFTY  BANKNIFTY_1   ETH-USD\n",
       "2016-01-04  201.020004  7791.299805     16599.15  0.954480\n",
       "2016-01-05  201.360001  7784.649902     16542.50  0.950176\n",
       "2016-01-06  198.820007  7741.000000     16433.15  0.950860\n",
       "2016-01-07  194.050003  7568.299805     16073.85  0.942005\n",
       "2016-01-08  191.919998  7601.350098     16142.65  0.986789"
      ]
     },
     "execution_count": 16,
     "metadata": {},
     "output_type": "execute_result"
    }
   ],
   "source": [
    "sa=Utilities()\n",
    "\n",
    "dates = pd.date_range('2016-01-01', '2019-12-31') # jan to dec\n",
    "# Choose stock symbols to read\n",
    "symbols = ['NIFTY', 'BANKNIFTY_1', 'ETH-USD']\n",
    "df = sa.get_data(symbols, dates)\n",
    "df.head()"
   ]
  },
  {
   "cell_type": "code",
   "execution_count": 17,
   "metadata": {},
   "outputs": [
    {
     "data": {
      "text/plain": [
       "<AxesSubplot:>"
      ]
     },
     "execution_count": 17,
     "metadata": {},
     "output_type": "execute_result"
    },
    {
     "data": {
      "image/png": "[encoded data removed]",
      "text/plain": [
       "<Figure size 432x288 with 1 Axes>"
      ]
     },
     "metadata": {
      "needs_background": "light"
     },
     "output_type": "display_data"
    }
   ],
   "source": [
    "df['NIFTY'].plot()"
   ]
  },
  {
   "cell_type": "code",
   "execution_count": null,
   "metadata": {},
   "outputs": [],
   "source": [
    "###################### Bollinger Bands ########################\n",
    "bb = BollingerBands()\n",
    "# Compute Bollinger Bands\n",
    "# 1. Compute rolling mean\n",
    "rm_SPY = bb.get_rolling_mean(df['SPY'], window=20)\n",
    "\n",
    "# 2. Compute rolling standard deviation\n",
    "rstd_SPY = bb.get_rolling_std(df['SPY'], window=20)\n",
    "\n",
    "# 3. Compute upper and lower bands\n",
    "upper_band, lower_band = bb.get_bollinger_bands(rm_SPY, rstd_SPY)\n",
    "\n",
    "# Plot raw SPY values, rolling mean and Bollinger Bands\n",
    "ax = df['SPY'].plot(title=\"Bollinger Bands\", label='SPY')\n",
    "rm_SPY.plot(label='Rolling mean', ax=ax)\n",
    "upper_band.plot(label='upper band', ax=ax)\n",
    "lower_band.plot(label='lower band', ax=ax)\n",
    "\n",
    "# Add axis labels and legend\n",
    "ax.set_xlabel(\"Date\")\n",
    "ax.set_ylabel(\"Price\")\n",
    "ax.legend(loc='upper left')\n",
    "plt.show()\n",
    "####################################################\n",
    "\n",
    "sa.plot_data(df['SPY'])\n",
    "daily_ret_spy = sa.compute_daily_returns(df['SPY'])\n",
    "sa.plot_data(daily_ret_spy)\n",
    "daily_ret_spy.hist(bins=20)\n",
    "mean, std_dev, median = sa.statistics(daily_ret_spy)\n",
    "plt.axvline(mean, color='w', linestyle='dashed', linewidth=2)\n",
    "plt.axvline(std_dev, color='r', linestyle='dashed', linewidth=2)\n",
    "plt.axvline(-std_dev, color='r', linestyle='dashed', linewidth=2)\n",
    "kurtosis = daily_ret_spy.kurtosis()\n",
    "####################################################\n"
   ]
  },
  {
   "cell_type": "code",
   "execution_count": 10,
   "metadata": {},
   "outputs": [],
   "source": [
    "def compute_daily_returns(df):\n",
    "        daily_returns = df.copy()\n",
    "        \"\"\"Using Numpy\"\"\"\n",
    "#         Ndaily_returns = df.copy()\n",
    "#         Ndaily_returns = (df[1:]/df[:-1].values) - 1\n",
    "#         Ndaily_returns.loc[0, :] = 0  # set daily returns of row 0 to 0\n",
    "\n",
    "        \"\"\"Using pandas\"\"\"\n",
    "        daily_returns = (df/df.shift(1)) - 1        \n",
    "        if daily_returns.ndim == 1:\n",
    "            daily_returns[0] = 0\n",
    "        else:\n",
    "            daily_returns.loc[0] = 0  # set daily returns of row 0 to 0\n",
    "        return daily_returns"
   ]
  },
  {
   "cell_type": "code",
   "execution_count": 11,
   "metadata": {
    "scrolled": true
   },
   "outputs": [
    {
     "data": {
      "text/plain": [
       "<matplotlib.legend.Legend at 0x7f8a5ed37390>"
      ]
     },
     "execution_count": 11,
     "metadata": {},
     "output_type": "execute_result"
    },
    {
     "data": {
      "image/png": "[encoded data removed]",
      "text/plain": [
       "<Figure size 432x288 with 1 Axes>"
      ]
     },
     "metadata": {
      "needs_background": "light"
     },
     "output_type": "display_data"
    }
   ],
   "source": [
    "symbol = ['GOOG', 'GLD']\n",
    "df = sa.get_data(symbol, dates)\n",
    "df.head()\n",
    "\n",
    "# a = (df/df.shift(1)) - 1 \n",
    "# compute_daily_returns(df).head()\n",
    "daily_returns = sa.compute_daily_returns(df)\n",
    "daily_returns['SPY'].hist(bins=20, label='SPY')\n",
    "daily_returns['GLD'].hist(bins=20, label='GLD')\n",
    "plt.legend(loc='upper right')"
   ]
  },
  {
   "cell_type": "code",
   "execution_count": 12,
   "metadata": {},
   "outputs": [
    {
     "data": {
      "text/plain": [
       "[<matplotlib.lines.Line2D at 0x7f8a61469320>]"
      ]
     },
     "execution_count": 12,
     "metadata": {},
     "output_type": "execute_result"
    },
    {
     "data": {
      "image/png": "[encoded data removed]",
      "text/plain": [
       "<Figure size 432x288 with 1 Axes>"
      ]
     },
     "metadata": {
      "needs_background": "light"
     },
     "output_type": "display_data"
    }
   ],
   "source": [
    "daily_returns.plot(kind='scatter', x='SPY', y='GLD', title='Scatter Plot')\n",
    "beta_GLD, alpha_GLD = np.polyfit(daily_returns['SPY'], daily_returns['GLD'], 1) # beta=slope, alpha = intercept\n",
    "beta_GLD, alpha_GLD\n",
    "fitted_line = beta_GLD*daily_returns['SPY'] + alpha_GLD\n",
    "plt.plot(daily_returns['SPY'], fitted_line, '-', color='r')\n"
   ]
  },
  {
   "cell_type": "code",
   "execution_count": 13,
   "metadata": {},
   "outputs": [
    {
     "data": {
      "text/html": [
       "<div>\n",
       "<style scoped>\n",
       "    .dataframe tbody tr th:only-of-type {\n",
       "        vertical-align: middle;\n",
       "    }\n",
       "\n",
       "    .dataframe tbody tr th {\n",
       "        vertical-align: top;\n",
       "    }\n",
       "\n",
       "    .dataframe thead th {\n",
       "        text-align: right;\n",
       "    }\n",
       "</style>\n",
       "<table border=\"1\" class=\"dataframe\">\n",
       "  <thead>\n",
       "    <tr style=\"text-align: right;\">\n",
       "      <th></th>\n",
       "      <th>SPY</th>\n",
       "      <th>GOOG</th>\n",
       "      <th>GLD</th>\n",
       "    </tr>\n",
       "  </thead>\n",
       "  <tbody>\n",
       "    <tr>\n",
       "      <th>SPY</th>\n",
       "      <td>1.000000</td>\n",
       "      <td>0.706139</td>\n",
       "      <td>-0.210634</td>\n",
       "    </tr>\n",
       "    <tr>\n",
       "      <th>GOOG</th>\n",
       "      <td>0.706139</td>\n",
       "      <td>1.000000</td>\n",
       "      <td>-0.126018</td>\n",
       "    </tr>\n",
       "    <tr>\n",
       "      <th>GLD</th>\n",
       "      <td>-0.210634</td>\n",
       "      <td>-0.126018</td>\n",
       "      <td>1.000000</td>\n",
       "    </tr>\n",
       "  </tbody>\n",
       "</table>\n",
       "</div>"
      ],
      "text/plain": [
       "           SPY      GOOG       GLD\n",
       "SPY   1.000000  0.706139 -0.210634\n",
       "GOOG  0.706139  1.000000 -0.126018\n",
       "GLD  -0.210634 -0.126018  1.000000"
      ]
     },
     "execution_count": 13,
     "metadata": {},
     "output_type": "execute_result"
    }
   ],
   "source": [
    "daily_returns.corr(method='pearson')  ## correlation"
   ]
  },
  {
   "cell_type": "code",
   "execution_count": null,
   "metadata": {},
   "outputs": [],
   "source": []
  }
 ],
 "metadata": {
  "kernelspec": {
   "display_name": "venvTF2",
   "language": "python",
   "name": "venvtf2"
  },
  "language_info": {
   "codemirror_mode": {
    "name": "ipython",
    "version": 3
   },
   "file_extension": ".py",
   "mimetype": "text/x-python",
   "name": "python",
   "nbconvert_exporter": "python",
   "pygments_lexer": "ipython3",
   "version": "3.6.9"
  }
 },
 "nbformat": 4,
 "nbformat_minor": 4
}
